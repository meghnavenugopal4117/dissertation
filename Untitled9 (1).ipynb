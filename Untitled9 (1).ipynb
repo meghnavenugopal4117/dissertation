{
 "cells": [
  {
   "cell_type": "code",
   "execution_count": 1,
   "id": "a3bdce53",
   "metadata": {
    "scrolled": true
   },
   "outputs": [
    {
     "name": "stdout",
     "output_type": "stream",
     "text": [
      "Requirement already satisfied: tensorflow in c:\\users\\user\\anaconda3\\lib\\site-packages (2.16.2)\n",
      "Requirement already satisfied: tensorflow-intel==2.16.2 in c:\\users\\user\\anaconda3\\lib\\site-packages (from tensorflow) (2.16.2)\n",
      "Requirement already satisfied: absl-py>=1.0.0 in c:\\users\\user\\anaconda3\\lib\\site-packages (from tensorflow-intel==2.16.2->tensorflow) (1.4.0)\n",
      "Requirement already satisfied: astunparse>=1.6.0 in c:\\users\\user\\anaconda3\\lib\\site-packages (from tensorflow-intel==2.16.2->tensorflow) (1.6.3)\n",
      "Requirement already satisfied: flatbuffers>=23.5.26 in c:\\users\\user\\anaconda3\\lib\\site-packages (from tensorflow-intel==2.16.2->tensorflow) (24.3.25)\n",
      "Requirement already satisfied: gast!=0.5.0,!=0.5.1,!=0.5.2,>=0.2.1 in c:\\users\\user\\anaconda3\\lib\\site-packages (from tensorflow-intel==2.16.2->tensorflow) (0.4.0)\n",
      "Requirement already satisfied: google-pasta>=0.1.1 in c:\\users\\user\\anaconda3\\lib\\site-packages (from tensorflow-intel==2.16.2->tensorflow) (0.2.0)\n",
      "Requirement already satisfied: h5py>=3.10.0 in c:\\users\\user\\anaconda3\\lib\\site-packages (from tensorflow-intel==2.16.2->tensorflow) (3.11.0)\n",
      "Requirement already satisfied: libclang>=13.0.0 in c:\\users\\user\\anaconda3\\lib\\site-packages (from tensorflow-intel==2.16.2->tensorflow) (16.0.6)\n",
      "Requirement already satisfied: ml-dtypes~=0.3.1 in c:\\users\\user\\anaconda3\\lib\\site-packages (from tensorflow-intel==2.16.2->tensorflow) (0.3.2)\n",
      "Requirement already satisfied: opt-einsum>=2.3.2 in c:\\users\\user\\anaconda3\\lib\\site-packages (from tensorflow-intel==2.16.2->tensorflow) (3.3.0)\n",
      "Requirement already satisfied: packaging in c:\\users\\user\\anaconda3\\lib\\site-packages (from tensorflow-intel==2.16.2->tensorflow) (22.0)\n",
      "Requirement already satisfied: protobuf!=4.21.0,!=4.21.1,!=4.21.2,!=4.21.3,!=4.21.4,!=4.21.5,<5.0.0dev,>=3.20.3 in c:\\users\\user\\anaconda3\\lib\\site-packages (from tensorflow-intel==2.16.2->tensorflow) (4.25.3)\n",
      "Requirement already satisfied: requests<3,>=2.21.0 in c:\\users\\user\\anaconda3\\lib\\site-packages (from tensorflow-intel==2.16.2->tensorflow) (2.31.0)\n",
      "Requirement already satisfied: setuptools in c:\\users\\user\\anaconda3\\lib\\site-packages (from tensorflow-intel==2.16.2->tensorflow) (71.0.4)\n",
      "Requirement already satisfied: six>=1.12.0 in c:\\users\\user\\anaconda3\\lib\\site-packages (from tensorflow-intel==2.16.2->tensorflow) (1.16.0)\n",
      "Requirement already satisfied: termcolor>=1.1.0 in c:\\users\\user\\anaconda3\\lib\\site-packages (from tensorflow-intel==2.16.2->tensorflow) (2.3.0)\n",
      "Requirement already satisfied: typing-extensions>=3.6.6 in c:\\users\\user\\anaconda3\\lib\\site-packages (from tensorflow-intel==2.16.2->tensorflow) (4.10.0)\n",
      "Requirement already satisfied: wrapt>=1.11.0 in c:\\users\\user\\anaconda3\\lib\\site-packages (from tensorflow-intel==2.16.2->tensorflow) (1.14.1)\n",
      "Requirement already satisfied: grpcio<2.0,>=1.24.3 in c:\\users\\user\\anaconda3\\lib\\site-packages (from tensorflow-intel==2.16.2->tensorflow) (1.64.1)\n",
      "Requirement already satisfied: tensorboard<2.17,>=2.16 in c:\\users\\user\\anaconda3\\lib\\site-packages (from tensorflow-intel==2.16.2->tensorflow) (2.16.2)\n",
      "Requirement already satisfied: keras>=3.0.0 in c:\\users\\user\\anaconda3\\lib\\site-packages (from tensorflow-intel==2.16.2->tensorflow) (3.4.1)\n",
      "Requirement already satisfied: tensorflow-io-gcs-filesystem>=0.23.1 in c:\\users\\user\\anaconda3\\lib\\site-packages (from tensorflow-intel==2.16.2->tensorflow) (0.31.0)\n",
      "Collecting numpy<2.0.0,>=1.23.5 (from tensorflow-intel==2.16.2->tensorflow)\n",
      "  Using cached numpy-1.26.4-cp311-cp311-win_amd64.whl.metadata (61 kB)\n",
      "Requirement already satisfied: wheel<1.0,>=0.23.0 in c:\\users\\user\\anaconda3\\lib\\site-packages (from astunparse>=1.6.0->tensorflow-intel==2.16.2->tensorflow) (0.38.4)\n",
      "Requirement already satisfied: rich in c:\\users\\user\\anaconda3\\lib\\site-packages (from keras>=3.0.0->tensorflow-intel==2.16.2->tensorflow) (13.7.0)\n",
      "Requirement already satisfied: namex in c:\\users\\user\\anaconda3\\lib\\site-packages (from keras>=3.0.0->tensorflow-intel==2.16.2->tensorflow) (0.0.7)\n",
      "Requirement already satisfied: optree in c:\\users\\user\\anaconda3\\lib\\site-packages (from keras>=3.0.0->tensorflow-intel==2.16.2->tensorflow) (0.11.0)\n",
      "Requirement already satisfied: charset-normalizer<4,>=2 in c:\\users\\user\\anaconda3\\lib\\site-packages (from requests<3,>=2.21.0->tensorflow-intel==2.16.2->tensorflow) (2.0.4)\n",
      "Requirement already satisfied: idna<4,>=2.5 in c:\\users\\user\\anaconda3\\lib\\site-packages (from requests<3,>=2.21.0->tensorflow-intel==2.16.2->tensorflow) (3.4)\n",
      "Requirement already satisfied: urllib3<3,>=1.21.1 in c:\\users\\user\\anaconda3\\lib\\site-packages (from requests<3,>=2.21.0->tensorflow-intel==2.16.2->tensorflow) (1.26.16)\n",
      "Requirement already satisfied: certifi>=2017.4.17 in c:\\users\\user\\anaconda3\\lib\\site-packages (from requests<3,>=2.21.0->tensorflow-intel==2.16.2->tensorflow) (2024.6.2)\n",
      "Requirement already satisfied: markdown>=2.6.8 in c:\\users\\user\\anaconda3\\lib\\site-packages (from tensorboard<2.17,>=2.16->tensorflow-intel==2.16.2->tensorflow) (3.4.1)\n",
      "Requirement already satisfied: tensorboard-data-server<0.8.0,>=0.7.0 in c:\\users\\user\\anaconda3\\lib\\site-packages (from tensorboard<2.17,>=2.16->tensorflow-intel==2.16.2->tensorflow) (0.7.2)\n",
      "Requirement already satisfied: werkzeug>=1.0.1 in c:\\users\\user\\anaconda3\\lib\\site-packages (from tensorboard<2.17,>=2.16->tensorflow-intel==2.16.2->tensorflow) (2.2.3)\n",
      "Requirement already satisfied: MarkupSafe>=2.1.1 in c:\\users\\user\\anaconda3\\lib\\site-packages (from werkzeug>=1.0.1->tensorboard<2.17,>=2.16->tensorflow-intel==2.16.2->tensorflow) (2.1.1)\n",
      "Requirement already satisfied: markdown-it-py>=2.2.0 in c:\\users\\user\\anaconda3\\lib\\site-packages (from rich->keras>=3.0.0->tensorflow-intel==2.16.2->tensorflow) (2.2.0)\n",
      "Requirement already satisfied: pygments<3.0.0,>=2.13.0 in c:\\users\\user\\anaconda3\\lib\\site-packages (from rich->keras>=3.0.0->tensorflow-intel==2.16.2->tensorflow) (2.15.1)\n",
      "Requirement already satisfied: mdurl~=0.1 in c:\\users\\user\\anaconda3\\lib\\site-packages (from markdown-it-py>=2.2.0->rich->keras>=3.0.0->tensorflow-intel==2.16.2->tensorflow) (0.1.0)\n",
      "Using cached numpy-1.26.4-cp311-cp311-win_amd64.whl (15.8 MB)\n",
      "Installing collected packages: numpy\n",
      "  Attempting uninstall: numpy\n",
      "    Found existing installation: numpy 2.0.1\n",
      "    Uninstalling numpy-2.0.1:\n",
      "      Successfully uninstalled numpy-2.0.1\n",
      "Successfully installed numpy-1.26.4\n"
     ]
    },
    {
     "name": "stderr",
     "output_type": "stream",
     "text": [
      "  WARNING: Failed to remove contents in a temporary directory 'C:\\Users\\USER\\anaconda3\\Lib\\site-packages\\~--py.libs'.\n",
      "  You can safely remove it manually.\n",
      "  WARNING: Failed to remove contents in a temporary directory 'C:\\Users\\USER\\anaconda3\\Lib\\site-packages\\~-~py'.\n",
      "  You can safely remove it manually.\n",
      "ERROR: pip's dependency resolver does not currently take into account all the packages that are installed. This behaviour is the source of the following dependency conflicts.\n",
      "gensim 4.3.0 requires FuzzyTM>=0.4.0, which is not installed.\n",
      "tables 3.8.0 requires blosc2~=2.0.0, which is not installed.\n",
      "tables 3.8.0 requires cython>=0.29.21, which is not installed.\n",
      "numba 0.57.1 requires numpy<1.25,>=1.21, but you have numpy 1.26.4 which is incompatible.\n",
      "syft 0.8.6 requires numpy<=1.24.4,>=1.23.5; python_version < \"3.12\", but you have numpy 1.26.4 which is incompatible.\n",
      "syft 0.8.6 requires packaging>=23.0, but you have packaging 22.0 which is incompatible.\n"
     ]
    }
   ],
   "source": [
    "!pip install tensorflow\n"
   ]
  },
  {
   "cell_type": "code",
   "execution_count": 2,
   "id": "d38e1ae4",
   "metadata": {
    "scrolled": true
   },
   "outputs": [
    {
     "name": "stdout",
     "output_type": "stream",
     "text": [
      "Requirement already satisfied: tensorflow==2.16.2 in c:\\users\\user\\anaconda3\\lib\\site-packages (2.16.2)\n",
      "Requirement already satisfied: tensorflow-intel==2.16.2 in c:\\users\\user\\anaconda3\\lib\\site-packages (from tensorflow==2.16.2) (2.16.2)\n",
      "Requirement already satisfied: absl-py>=1.0.0 in c:\\users\\user\\anaconda3\\lib\\site-packages (from tensorflow-intel==2.16.2->tensorflow==2.16.2) (1.4.0)\n",
      "Requirement already satisfied: astunparse>=1.6.0 in c:\\users\\user\\anaconda3\\lib\\site-packages (from tensorflow-intel==2.16.2->tensorflow==2.16.2) (1.6.3)\n",
      "Requirement already satisfied: flatbuffers>=23.5.26 in c:\\users\\user\\anaconda3\\lib\\site-packages (from tensorflow-intel==2.16.2->tensorflow==2.16.2) (24.3.25)\n",
      "Requirement already satisfied: gast!=0.5.0,!=0.5.1,!=0.5.2,>=0.2.1 in c:\\users\\user\\anaconda3\\lib\\site-packages (from tensorflow-intel==2.16.2->tensorflow==2.16.2) (0.4.0)\n",
      "Requirement already satisfied: google-pasta>=0.1.1 in c:\\users\\user\\anaconda3\\lib\\site-packages (from tensorflow-intel==2.16.2->tensorflow==2.16.2) (0.2.0)\n",
      "Requirement already satisfied: h5py>=3.10.0 in c:\\users\\user\\anaconda3\\lib\\site-packages (from tensorflow-intel==2.16.2->tensorflow==2.16.2) (3.11.0)\n",
      "Requirement already satisfied: libclang>=13.0.0 in c:\\users\\user\\anaconda3\\lib\\site-packages (from tensorflow-intel==2.16.2->tensorflow==2.16.2) (16.0.6)\n",
      "Requirement already satisfied: ml-dtypes~=0.3.1 in c:\\users\\user\\anaconda3\\lib\\site-packages (from tensorflow-intel==2.16.2->tensorflow==2.16.2) (0.3.2)\n",
      "Requirement already satisfied: opt-einsum>=2.3.2 in c:\\users\\user\\anaconda3\\lib\\site-packages (from tensorflow-intel==2.16.2->tensorflow==2.16.2) (3.3.0)\n",
      "Requirement already satisfied: packaging in c:\\users\\user\\anaconda3\\lib\\site-packages (from tensorflow-intel==2.16.2->tensorflow==2.16.2) (22.0)\n",
      "Requirement already satisfied: protobuf!=4.21.0,!=4.21.1,!=4.21.2,!=4.21.3,!=4.21.4,!=4.21.5,<5.0.0dev,>=3.20.3 in c:\\users\\user\\anaconda3\\lib\\site-packages (from tensorflow-intel==2.16.2->tensorflow==2.16.2) (4.25.3)\n",
      "Requirement already satisfied: requests<3,>=2.21.0 in c:\\users\\user\\anaconda3\\lib\\site-packages (from tensorflow-intel==2.16.2->tensorflow==2.16.2) (2.31.0)\n",
      "Requirement already satisfied: setuptools in c:\\users\\user\\anaconda3\\lib\\site-packages (from tensorflow-intel==2.16.2->tensorflow==2.16.2) (71.0.4)\n",
      "Requirement already satisfied: six>=1.12.0 in c:\\users\\user\\anaconda3\\lib\\site-packages (from tensorflow-intel==2.16.2->tensorflow==2.16.2) (1.16.0)\n",
      "Requirement already satisfied: termcolor>=1.1.0 in c:\\users\\user\\anaconda3\\lib\\site-packages (from tensorflow-intel==2.16.2->tensorflow==2.16.2) (2.3.0)\n",
      "Requirement already satisfied: typing-extensions>=3.6.6 in c:\\users\\user\\anaconda3\\lib\\site-packages (from tensorflow-intel==2.16.2->tensorflow==2.16.2) (4.10.0)\n",
      "Requirement already satisfied: wrapt>=1.11.0 in c:\\users\\user\\anaconda3\\lib\\site-packages (from tensorflow-intel==2.16.2->tensorflow==2.16.2) (1.14.1)\n",
      "Requirement already satisfied: grpcio<2.0,>=1.24.3 in c:\\users\\user\\anaconda3\\lib\\site-packages (from tensorflow-intel==2.16.2->tensorflow==2.16.2) (1.64.1)\n",
      "Requirement already satisfied: tensorboard<2.17,>=2.16 in c:\\users\\user\\anaconda3\\lib\\site-packages (from tensorflow-intel==2.16.2->tensorflow==2.16.2) (2.16.2)\n",
      "Requirement already satisfied: keras>=3.0.0 in c:\\users\\user\\anaconda3\\lib\\site-packages (from tensorflow-intel==2.16.2->tensorflow==2.16.2) (3.4.1)\n",
      "Requirement already satisfied: tensorflow-io-gcs-filesystem>=0.23.1 in c:\\users\\user\\anaconda3\\lib\\site-packages (from tensorflow-intel==2.16.2->tensorflow==2.16.2) (0.31.0)\n",
      "Requirement already satisfied: numpy<2.0.0,>=1.23.5 in c:\\users\\user\\anaconda3\\lib\\site-packages (from tensorflow-intel==2.16.2->tensorflow==2.16.2) (1.26.4)\n",
      "Requirement already satisfied: wheel<1.0,>=0.23.0 in c:\\users\\user\\anaconda3\\lib\\site-packages (from astunparse>=1.6.0->tensorflow-intel==2.16.2->tensorflow==2.16.2) (0.38.4)\n",
      "Requirement already satisfied: rich in c:\\users\\user\\anaconda3\\lib\\site-packages (from keras>=3.0.0->tensorflow-intel==2.16.2->tensorflow==2.16.2) (13.7.0)\n",
      "Requirement already satisfied: namex in c:\\users\\user\\anaconda3\\lib\\site-packages (from keras>=3.0.0->tensorflow-intel==2.16.2->tensorflow==2.16.2) (0.0.7)\n",
      "Requirement already satisfied: optree in c:\\users\\user\\anaconda3\\lib\\site-packages (from keras>=3.0.0->tensorflow-intel==2.16.2->tensorflow==2.16.2) (0.11.0)\n",
      "Requirement already satisfied: charset-normalizer<4,>=2 in c:\\users\\user\\anaconda3\\lib\\site-packages (from requests<3,>=2.21.0->tensorflow-intel==2.16.2->tensorflow==2.16.2) (2.0.4)\n",
      "Requirement already satisfied: idna<4,>=2.5 in c:\\users\\user\\anaconda3\\lib\\site-packages (from requests<3,>=2.21.0->tensorflow-intel==2.16.2->tensorflow==2.16.2) (3.4)\n",
      "Requirement already satisfied: urllib3<3,>=1.21.1 in c:\\users\\user\\anaconda3\\lib\\site-packages (from requests<3,>=2.21.0->tensorflow-intel==2.16.2->tensorflow==2.16.2) (1.26.16)\n",
      "Requirement already satisfied: certifi>=2017.4.17 in c:\\users\\user\\anaconda3\\lib\\site-packages (from requests<3,>=2.21.0->tensorflow-intel==2.16.2->tensorflow==2.16.2) (2024.6.2)\n",
      "Requirement already satisfied: markdown>=2.6.8 in c:\\users\\user\\anaconda3\\lib\\site-packages (from tensorboard<2.17,>=2.16->tensorflow-intel==2.16.2->tensorflow==2.16.2) (3.4.1)\n",
      "Requirement already satisfied: tensorboard-data-server<0.8.0,>=0.7.0 in c:\\users\\user\\anaconda3\\lib\\site-packages (from tensorboard<2.17,>=2.16->tensorflow-intel==2.16.2->tensorflow==2.16.2) (0.7.2)\n",
      "Requirement already satisfied: werkzeug>=1.0.1 in c:\\users\\user\\anaconda3\\lib\\site-packages (from tensorboard<2.17,>=2.16->tensorflow-intel==2.16.2->tensorflow==2.16.2) (2.2.3)\n",
      "Requirement already satisfied: MarkupSafe>=2.1.1 in c:\\users\\user\\anaconda3\\lib\\site-packages (from werkzeug>=1.0.1->tensorboard<2.17,>=2.16->tensorflow-intel==2.16.2->tensorflow==2.16.2) (2.1.1)\n",
      "Requirement already satisfied: markdown-it-py>=2.2.0 in c:\\users\\user\\anaconda3\\lib\\site-packages (from rich->keras>=3.0.0->tensorflow-intel==2.16.2->tensorflow==2.16.2) (2.2.0)\n",
      "Requirement already satisfied: pygments<3.0.0,>=2.13.0 in c:\\users\\user\\anaconda3\\lib\\site-packages (from rich->keras>=3.0.0->tensorflow-intel==2.16.2->tensorflow==2.16.2) (2.15.1)\n",
      "Requirement already satisfied: mdurl~=0.1 in c:\\users\\user\\anaconda3\\lib\\site-packages (from markdown-it-py>=2.2.0->rich->keras>=3.0.0->tensorflow-intel==2.16.2->tensorflow==2.16.2) (0.1.0)\n"
     ]
    }
   ],
   "source": [
    "!pip install tensorflow==2.16.2"
   ]
  },
  {
   "cell_type": "code",
   "execution_count": 3,
   "id": "0b148ad9",
   "metadata": {},
   "outputs": [
    {
     "name": "stdout",
     "output_type": "stream",
     "text": [
      "Requirement already satisfied: tensorflow-privacy in c:\\users\\user\\anaconda3\\lib\\site-packages (0.9.0)\n",
      "Requirement already satisfied: absl-py==1.*,>=1.0 in c:\\users\\user\\anaconda3\\lib\\site-packages (from tensorflow-privacy) (1.4.0)\n",
      "Requirement already satisfied: dm-tree==0.1.8 in c:\\users\\user\\anaconda3\\lib\\site-packages (from tensorflow-privacy) (0.1.8)\n",
      "Requirement already satisfied: dp-accounting==0.4.3 in c:\\users\\user\\anaconda3\\lib\\site-packages (from tensorflow-privacy) (0.4.3)\n",
      "Requirement already satisfied: numpy~=1.21 in c:\\users\\user\\anaconda3\\lib\\site-packages (from tensorflow-privacy) (1.26.4)\n",
      "Requirement already satisfied: packaging~=22.0 in c:\\users\\user\\anaconda3\\lib\\site-packages (from tensorflow-privacy) (22.0)\n",
      "Requirement already satisfied: scikit-learn==1.*,>=1.0 in c:\\users\\user\\anaconda3\\lib\\site-packages (from tensorflow-privacy) (1.5.1)\n",
      "Requirement already satisfied: scipy~=1.9 in c:\\users\\user\\anaconda3\\lib\\site-packages (from tensorflow-privacy) (1.14.0)\n",
      "Requirement already satisfied: tensorflow-estimator~=2.4 in c:\\users\\user\\anaconda3\\lib\\site-packages (from tensorflow-privacy) (2.15.0)\n",
      "Requirement already satisfied: tensorflow-probability~=0.22.0 in c:\\users\\user\\anaconda3\\lib\\site-packages (from tensorflow-privacy) (0.22.1)\n",
      "Requirement already satisfied: tensorflow~=2.4 in c:\\users\\user\\anaconda3\\lib\\site-packages (from tensorflow-privacy) (2.16.2)\n",
      "Requirement already satisfied: attrs>=22 in c:\\users\\user\\anaconda3\\lib\\site-packages (from dp-accounting==0.4.3->tensorflow-privacy) (22.1.0)\n",
      "Requirement already satisfied: mpmath~=1.2 in c:\\users\\user\\anaconda3\\lib\\site-packages (from dp-accounting==0.4.3->tensorflow-privacy) (1.3.0)\n",
      "Requirement already satisfied: joblib>=1.2.0 in c:\\users\\user\\anaconda3\\lib\\site-packages (from scikit-learn==1.*,>=1.0->tensorflow-privacy) (1.2.0)\n",
      "Requirement already satisfied: threadpoolctl>=3.1.0 in c:\\users\\user\\anaconda3\\lib\\site-packages (from scikit-learn==1.*,>=1.0->tensorflow-privacy) (3.5.0)\n",
      "Requirement already satisfied: tensorflow-intel==2.16.2 in c:\\users\\user\\anaconda3\\lib\\site-packages (from tensorflow~=2.4->tensorflow-privacy) (2.16.2)\n",
      "Requirement already satisfied: astunparse>=1.6.0 in c:\\users\\user\\anaconda3\\lib\\site-packages (from tensorflow-intel==2.16.2->tensorflow~=2.4->tensorflow-privacy) (1.6.3)\n",
      "Requirement already satisfied: flatbuffers>=23.5.26 in c:\\users\\user\\anaconda3\\lib\\site-packages (from tensorflow-intel==2.16.2->tensorflow~=2.4->tensorflow-privacy) (24.3.25)\n",
      "Requirement already satisfied: gast!=0.5.0,!=0.5.1,!=0.5.2,>=0.2.1 in c:\\users\\user\\anaconda3\\lib\\site-packages (from tensorflow-intel==2.16.2->tensorflow~=2.4->tensorflow-privacy) (0.4.0)\n",
      "Requirement already satisfied: google-pasta>=0.1.1 in c:\\users\\user\\anaconda3\\lib\\site-packages (from tensorflow-intel==2.16.2->tensorflow~=2.4->tensorflow-privacy) (0.2.0)\n",
      "Requirement already satisfied: h5py>=3.10.0 in c:\\users\\user\\anaconda3\\lib\\site-packages (from tensorflow-intel==2.16.2->tensorflow~=2.4->tensorflow-privacy) (3.11.0)\n",
      "Requirement already satisfied: libclang>=13.0.0 in c:\\users\\user\\anaconda3\\lib\\site-packages (from tensorflow-intel==2.16.2->tensorflow~=2.4->tensorflow-privacy) (16.0.6)\n",
      "Requirement already satisfied: ml-dtypes~=0.3.1 in c:\\users\\user\\anaconda3\\lib\\site-packages (from tensorflow-intel==2.16.2->tensorflow~=2.4->tensorflow-privacy) (0.3.2)\n",
      "Requirement already satisfied: opt-einsum>=2.3.2 in c:\\users\\user\\anaconda3\\lib\\site-packages (from tensorflow-intel==2.16.2->tensorflow~=2.4->tensorflow-privacy) (3.3.0)\n",
      "Requirement already satisfied: protobuf!=4.21.0,!=4.21.1,!=4.21.2,!=4.21.3,!=4.21.4,!=4.21.5,<5.0.0dev,>=3.20.3 in c:\\users\\user\\anaconda3\\lib\\site-packages (from tensorflow-intel==2.16.2->tensorflow~=2.4->tensorflow-privacy) (4.25.3)\n",
      "Requirement already satisfied: requests<3,>=2.21.0 in c:\\users\\user\\anaconda3\\lib\\site-packages (from tensorflow-intel==2.16.2->tensorflow~=2.4->tensorflow-privacy) (2.31.0)\n",
      "Requirement already satisfied: setuptools in c:\\users\\user\\anaconda3\\lib\\site-packages (from tensorflow-intel==2.16.2->tensorflow~=2.4->tensorflow-privacy) (71.0.4)\n",
      "Requirement already satisfied: six>=1.12.0 in c:\\users\\user\\anaconda3\\lib\\site-packages (from tensorflow-intel==2.16.2->tensorflow~=2.4->tensorflow-privacy) (1.16.0)\n",
      "Requirement already satisfied: termcolor>=1.1.0 in c:\\users\\user\\anaconda3\\lib\\site-packages (from tensorflow-intel==2.16.2->tensorflow~=2.4->tensorflow-privacy) (2.3.0)\n",
      "Requirement already satisfied: typing-extensions>=3.6.6 in c:\\users\\user\\anaconda3\\lib\\site-packages (from tensorflow-intel==2.16.2->tensorflow~=2.4->tensorflow-privacy) (4.10.0)\n",
      "Requirement already satisfied: wrapt>=1.11.0 in c:\\users\\user\\anaconda3\\lib\\site-packages (from tensorflow-intel==2.16.2->tensorflow~=2.4->tensorflow-privacy) (1.14.1)\n",
      "Requirement already satisfied: grpcio<2.0,>=1.24.3 in c:\\users\\user\\anaconda3\\lib\\site-packages (from tensorflow-intel==2.16.2->tensorflow~=2.4->tensorflow-privacy) (1.64.1)\n",
      "Requirement already satisfied: tensorboard<2.17,>=2.16 in c:\\users\\user\\anaconda3\\lib\\site-packages (from tensorflow-intel==2.16.2->tensorflow~=2.4->tensorflow-privacy) (2.16.2)\n",
      "Requirement already satisfied: keras>=3.0.0 in c:\\users\\user\\anaconda3\\lib\\site-packages (from tensorflow-intel==2.16.2->tensorflow~=2.4->tensorflow-privacy) (3.4.1)\n",
      "Requirement already satisfied: tensorflow-io-gcs-filesystem>=0.23.1 in c:\\users\\user\\anaconda3\\lib\\site-packages (from tensorflow-intel==2.16.2->tensorflow~=2.4->tensorflow-privacy) (0.31.0)\n",
      "Requirement already satisfied: decorator in c:\\users\\user\\anaconda3\\lib\\site-packages (from tensorflow-probability~=0.22.0->tensorflow-privacy) (5.1.1)\n",
      "Requirement already satisfied: cloudpickle>=1.3 in c:\\users\\user\\anaconda3\\lib\\site-packages (from tensorflow-probability~=0.22.0->tensorflow-privacy) (2.2.1)\n",
      "Requirement already satisfied: wheel<1.0,>=0.23.0 in c:\\users\\user\\anaconda3\\lib\\site-packages (from astunparse>=1.6.0->tensorflow-intel==2.16.2->tensorflow~=2.4->tensorflow-privacy) (0.38.4)\n",
      "Requirement already satisfied: rich in c:\\users\\user\\anaconda3\\lib\\site-packages (from keras>=3.0.0->tensorflow-intel==2.16.2->tensorflow~=2.4->tensorflow-privacy) (13.7.0)\n",
      "Requirement already satisfied: namex in c:\\users\\user\\anaconda3\\lib\\site-packages (from keras>=3.0.0->tensorflow-intel==2.16.2->tensorflow~=2.4->tensorflow-privacy) (0.0.7)\n",
      "Requirement already satisfied: optree in c:\\users\\user\\anaconda3\\lib\\site-packages (from keras>=3.0.0->tensorflow-intel==2.16.2->tensorflow~=2.4->tensorflow-privacy) (0.11.0)\n",
      "Requirement already satisfied: charset-normalizer<4,>=2 in c:\\users\\user\\anaconda3\\lib\\site-packages (from requests<3,>=2.21.0->tensorflow-intel==2.16.2->tensorflow~=2.4->tensorflow-privacy) (2.0.4)\n",
      "Requirement already satisfied: idna<4,>=2.5 in c:\\users\\user\\anaconda3\\lib\\site-packages (from requests<3,>=2.21.0->tensorflow-intel==2.16.2->tensorflow~=2.4->tensorflow-privacy) (3.4)\n",
      "Requirement already satisfied: urllib3<3,>=1.21.1 in c:\\users\\user\\anaconda3\\lib\\site-packages (from requests<3,>=2.21.0->tensorflow-intel==2.16.2->tensorflow~=2.4->tensorflow-privacy) (1.26.16)\n",
      "Requirement already satisfied: certifi>=2017.4.17 in c:\\users\\user\\anaconda3\\lib\\site-packages (from requests<3,>=2.21.0->tensorflow-intel==2.16.2->tensorflow~=2.4->tensorflow-privacy) (2024.6.2)\n",
      "Requirement already satisfied: markdown>=2.6.8 in c:\\users\\user\\anaconda3\\lib\\site-packages (from tensorboard<2.17,>=2.16->tensorflow-intel==2.16.2->tensorflow~=2.4->tensorflow-privacy) (3.4.1)\n",
      "Requirement already satisfied: tensorboard-data-server<0.8.0,>=0.7.0 in c:\\users\\user\\anaconda3\\lib\\site-packages (from tensorboard<2.17,>=2.16->tensorflow-intel==2.16.2->tensorflow~=2.4->tensorflow-privacy) (0.7.2)\n",
      "Requirement already satisfied: werkzeug>=1.0.1 in c:\\users\\user\\anaconda3\\lib\\site-packages (from tensorboard<2.17,>=2.16->tensorflow-intel==2.16.2->tensorflow~=2.4->tensorflow-privacy) (2.2.3)\n",
      "Requirement already satisfied: MarkupSafe>=2.1.1 in c:\\users\\user\\anaconda3\\lib\\site-packages (from werkzeug>=1.0.1->tensorboard<2.17,>=2.16->tensorflow-intel==2.16.2->tensorflow~=2.4->tensorflow-privacy) (2.1.1)\n",
      "Requirement already satisfied: markdown-it-py>=2.2.0 in c:\\users\\user\\anaconda3\\lib\\site-packages (from rich->keras>=3.0.0->tensorflow-intel==2.16.2->tensorflow~=2.4->tensorflow-privacy) (2.2.0)\n",
      "Requirement already satisfied: pygments<3.0.0,>=2.13.0 in c:\\users\\user\\anaconda3\\lib\\site-packages (from rich->keras>=3.0.0->tensorflow-intel==2.16.2->tensorflow~=2.4->tensorflow-privacy) (2.15.1)\n",
      "Requirement already satisfied: mdurl~=0.1 in c:\\users\\user\\anaconda3\\lib\\site-packages (from markdown-it-py>=2.2.0->rich->keras>=3.0.0->tensorflow-intel==2.16.2->tensorflow~=2.4->tensorflow-privacy) (0.1.0)\n",
      "Note: you may need to restart the kernel to use updated packages.\n"
     ]
    }
   ],
   "source": [
    "pip install tensorflow-privacy"
   ]
  },
  {
   "cell_type": "code",
   "execution_count": 4,
   "id": "f63d444c",
   "metadata": {},
   "outputs": [
    {
     "name": "stdout",
     "output_type": "stream",
     "text": [
      "Collecting tensorflow-privacy==0.5.1\n",
      "  Using cached tensorflow_privacy-0.5.1-py3-none-any.whl.metadata (462 bytes)\n",
      "Requirement already satisfied: scipy>=0.17 in c:\\users\\user\\anaconda3\\lib\\site-packages (from tensorflow-privacy==0.5.1) (1.14.0)\n",
      "Requirement already satisfied: tensorflow-estimator>=2.3.0 in c:\\users\\user\\anaconda3\\lib\\site-packages (from tensorflow-privacy==0.5.1) (2.15.0)\n",
      "Requirement already satisfied: mpmath in c:\\users\\user\\anaconda3\\lib\\site-packages (from tensorflow-privacy==0.5.1) (1.3.0)\n",
      "Requirement already satisfied: dm-tree~=0.1.1 in c:\\users\\user\\anaconda3\\lib\\site-packages (from tensorflow-privacy==0.5.1) (0.1.8)\n",
      "Requirement already satisfied: numpy<2.3,>=1.23.5 in c:\\users\\user\\anaconda3\\lib\\site-packages (from scipy>=0.17->tensorflow-privacy==0.5.1) (1.26.4)\n",
      "Using cached tensorflow_privacy-0.5.1-py3-none-any.whl (149 kB)\n",
      "Installing collected packages: tensorflow-privacy\n",
      "  Attempting uninstall: tensorflow-privacy\n",
      "    Found existing installation: tensorflow_privacy 0.9.0\n",
      "    Uninstalling tensorflow_privacy-0.9.0:\n",
      "      Successfully uninstalled tensorflow_privacy-0.9.0\n",
      "Successfully installed tensorflow-privacy-0.5.1\n"
     ]
    }
   ],
   "source": [
    "!pip install tensorflow-privacy==0.5.1"
   ]
  },
  {
   "cell_type": "code",
   "execution_count": 5,
   "id": "03992496",
   "metadata": {},
   "outputs": [
    {
     "name": "stdout",
     "output_type": "stream",
     "text": [
      "Requirement already satisfied: tensorflow in c:\\users\\user\\anaconda3\\lib\\site-packages (2.16.2)\n",
      "Collecting tensorflow\n",
      "  Using cached tensorflow-2.17.0-cp311-cp311-win_amd64.whl.metadata (3.2 kB)\n",
      "Requirement already satisfied: tensorflow-privacy in c:\\users\\user\\anaconda3\\lib\\site-packages (0.5.1)\n",
      "Collecting tensorflow-privacy\n",
      "  Using cached tensorflow_privacy-0.9.0-py3-none-any.whl.metadata (763 bytes)\n",
      "Collecting tensorflow-intel==2.17.0 (from tensorflow)\n",
      "  Using cached tensorflow_intel-2.17.0-cp311-cp311-win_amd64.whl.metadata (5.0 kB)\n",
      "Requirement already satisfied: absl-py>=1.0.0 in c:\\users\\user\\anaconda3\\lib\\site-packages (from tensorflow-intel==2.17.0->tensorflow) (1.4.0)\n",
      "Requirement already satisfied: astunparse>=1.6.0 in c:\\users\\user\\anaconda3\\lib\\site-packages (from tensorflow-intel==2.17.0->tensorflow) (1.6.3)\n",
      "Requirement already satisfied: flatbuffers>=24.3.25 in c:\\users\\user\\anaconda3\\lib\\site-packages (from tensorflow-intel==2.17.0->tensorflow) (24.3.25)\n",
      "Requirement already satisfied: gast!=0.5.0,!=0.5.1,!=0.5.2,>=0.2.1 in c:\\users\\user\\anaconda3\\lib\\site-packages (from tensorflow-intel==2.17.0->tensorflow) (0.4.0)\n",
      "Requirement already satisfied: google-pasta>=0.1.1 in c:\\users\\user\\anaconda3\\lib\\site-packages (from tensorflow-intel==2.17.0->tensorflow) (0.2.0)\n",
      "Requirement already satisfied: h5py>=3.10.0 in c:\\users\\user\\anaconda3\\lib\\site-packages (from tensorflow-intel==2.17.0->tensorflow) (3.11.0)\n",
      "Requirement already satisfied: libclang>=13.0.0 in c:\\users\\user\\anaconda3\\lib\\site-packages (from tensorflow-intel==2.17.0->tensorflow) (16.0.6)\n",
      "Requirement already satisfied: ml-dtypes<0.5.0,>=0.3.1 in c:\\users\\user\\anaconda3\\lib\\site-packages (from tensorflow-intel==2.17.0->tensorflow) (0.3.2)\n",
      "Requirement already satisfied: opt-einsum>=2.3.2 in c:\\users\\user\\anaconda3\\lib\\site-packages (from tensorflow-intel==2.17.0->tensorflow) (3.3.0)\n",
      "Requirement already satisfied: packaging in c:\\users\\user\\anaconda3\\lib\\site-packages (from tensorflow-intel==2.17.0->tensorflow) (22.0)\n",
      "Requirement already satisfied: protobuf!=4.21.0,!=4.21.1,!=4.21.2,!=4.21.3,!=4.21.4,!=4.21.5,<5.0.0dev,>=3.20.3 in c:\\users\\user\\anaconda3\\lib\\site-packages (from tensorflow-intel==2.17.0->tensorflow) (4.25.3)\n",
      "Requirement already satisfied: requests<3,>=2.21.0 in c:\\users\\user\\anaconda3\\lib\\site-packages (from tensorflow-intel==2.17.0->tensorflow) (2.31.0)\n",
      "Requirement already satisfied: setuptools in c:\\users\\user\\anaconda3\\lib\\site-packages (from tensorflow-intel==2.17.0->tensorflow) (71.0.4)\n",
      "Requirement already satisfied: six>=1.12.0 in c:\\users\\user\\anaconda3\\lib\\site-packages (from tensorflow-intel==2.17.0->tensorflow) (1.16.0)\n",
      "Requirement already satisfied: termcolor>=1.1.0 in c:\\users\\user\\anaconda3\\lib\\site-packages (from tensorflow-intel==2.17.0->tensorflow) (2.3.0)\n",
      "Requirement already satisfied: typing-extensions>=3.6.6 in c:\\users\\user\\anaconda3\\lib\\site-packages (from tensorflow-intel==2.17.0->tensorflow) (4.10.0)\n",
      "Requirement already satisfied: wrapt>=1.11.0 in c:\\users\\user\\anaconda3\\lib\\site-packages (from tensorflow-intel==2.17.0->tensorflow) (1.14.1)\n",
      "Requirement already satisfied: grpcio<2.0,>=1.24.3 in c:\\users\\user\\anaconda3\\lib\\site-packages (from tensorflow-intel==2.17.0->tensorflow) (1.64.1)\n",
      "Collecting tensorboard<2.18,>=2.17 (from tensorflow-intel==2.17.0->tensorflow)\n",
      "  Using cached tensorboard-2.17.0-py3-none-any.whl.metadata (1.6 kB)\n",
      "Requirement already satisfied: keras>=3.2.0 in c:\\users\\user\\anaconda3\\lib\\site-packages (from tensorflow-intel==2.17.0->tensorflow) (3.4.1)\n",
      "Requirement already satisfied: tensorflow-io-gcs-filesystem>=0.23.1 in c:\\users\\user\\anaconda3\\lib\\site-packages (from tensorflow-intel==2.17.0->tensorflow) (0.31.0)\n",
      "Requirement already satisfied: numpy<2.0.0,>=1.23.5 in c:\\users\\user\\anaconda3\\lib\\site-packages (from tensorflow-intel==2.17.0->tensorflow) (1.26.4)\n",
      "Requirement already satisfied: dm-tree==0.1.8 in c:\\users\\user\\anaconda3\\lib\\site-packages (from tensorflow-privacy) (0.1.8)\n",
      "Requirement already satisfied: dp-accounting==0.4.3 in c:\\users\\user\\anaconda3\\lib\\site-packages (from tensorflow-privacy) (0.4.3)\n",
      "Requirement already satisfied: scikit-learn==1.*,>=1.0 in c:\\users\\user\\anaconda3\\lib\\site-packages (from tensorflow-privacy) (1.5.1)\n",
      "Requirement already satisfied: scipy~=1.9 in c:\\users\\user\\anaconda3\\lib\\site-packages (from tensorflow-privacy) (1.14.0)\n",
      "Requirement already satisfied: tensorflow-estimator~=2.4 in c:\\users\\user\\anaconda3\\lib\\site-packages (from tensorflow-privacy) (2.15.0)\n",
      "Requirement already satisfied: tensorflow-probability~=0.22.0 in c:\\users\\user\\anaconda3\\lib\\site-packages (from tensorflow-privacy) (0.22.1)\n",
      "Requirement already satisfied: attrs>=22 in c:\\users\\user\\anaconda3\\lib\\site-packages (from dp-accounting==0.4.3->tensorflow-privacy) (22.1.0)\n",
      "Requirement already satisfied: mpmath~=1.2 in c:\\users\\user\\anaconda3\\lib\\site-packages (from dp-accounting==0.4.3->tensorflow-privacy) (1.3.0)\n",
      "Requirement already satisfied: joblib>=1.2.0 in c:\\users\\user\\anaconda3\\lib\\site-packages (from scikit-learn==1.*,>=1.0->tensorflow-privacy) (1.2.0)\n",
      "Requirement already satisfied: threadpoolctl>=3.1.0 in c:\\users\\user\\anaconda3\\lib\\site-packages (from scikit-learn==1.*,>=1.0->tensorflow-privacy) (3.5.0)\n",
      "Requirement already satisfied: decorator in c:\\users\\user\\anaconda3\\lib\\site-packages (from tensorflow-probability~=0.22.0->tensorflow-privacy) (5.1.1)\n",
      "Requirement already satisfied: cloudpickle>=1.3 in c:\\users\\user\\anaconda3\\lib\\site-packages (from tensorflow-probability~=0.22.0->tensorflow-privacy) (2.2.1)\n",
      "Requirement already satisfied: wheel<1.0,>=0.23.0 in c:\\users\\user\\anaconda3\\lib\\site-packages (from astunparse>=1.6.0->tensorflow-intel==2.17.0->tensorflow) (0.38.4)\n",
      "Requirement already satisfied: rich in c:\\users\\user\\anaconda3\\lib\\site-packages (from keras>=3.2.0->tensorflow-intel==2.17.0->tensorflow) (13.7.0)\n",
      "Requirement already satisfied: namex in c:\\users\\user\\anaconda3\\lib\\site-packages (from keras>=3.2.0->tensorflow-intel==2.17.0->tensorflow) (0.0.7)\n",
      "Requirement already satisfied: optree in c:\\users\\user\\anaconda3\\lib\\site-packages (from keras>=3.2.0->tensorflow-intel==2.17.0->tensorflow) (0.11.0)\n",
      "Requirement already satisfied: charset-normalizer<4,>=2 in c:\\users\\user\\anaconda3\\lib\\site-packages (from requests<3,>=2.21.0->tensorflow-intel==2.17.0->tensorflow) (2.0.4)\n",
      "Requirement already satisfied: idna<4,>=2.5 in c:\\users\\user\\anaconda3\\lib\\site-packages (from requests<3,>=2.21.0->tensorflow-intel==2.17.0->tensorflow) (3.4)\n",
      "Requirement already satisfied: urllib3<3,>=1.21.1 in c:\\users\\user\\anaconda3\\lib\\site-packages (from requests<3,>=2.21.0->tensorflow-intel==2.17.0->tensorflow) (1.26.16)\n",
      "Requirement already satisfied: certifi>=2017.4.17 in c:\\users\\user\\anaconda3\\lib\\site-packages (from requests<3,>=2.21.0->tensorflow-intel==2.17.0->tensorflow) (2024.6.2)\n",
      "Requirement already satisfied: markdown>=2.6.8 in c:\\users\\user\\anaconda3\\lib\\site-packages (from tensorboard<2.18,>=2.17->tensorflow-intel==2.17.0->tensorflow) (3.4.1)\n",
      "Requirement already satisfied: tensorboard-data-server<0.8.0,>=0.7.0 in c:\\users\\user\\anaconda3\\lib\\site-packages (from tensorboard<2.18,>=2.17->tensorflow-intel==2.17.0->tensorflow) (0.7.2)\n",
      "Requirement already satisfied: werkzeug>=1.0.1 in c:\\users\\user\\anaconda3\\lib\\site-packages (from tensorboard<2.18,>=2.17->tensorflow-intel==2.17.0->tensorflow) (2.2.3)\n",
      "Requirement already satisfied: MarkupSafe>=2.1.1 in c:\\users\\user\\anaconda3\\lib\\site-packages (from werkzeug>=1.0.1->tensorboard<2.18,>=2.17->tensorflow-intel==2.17.0->tensorflow) (2.1.1)\n",
      "Requirement already satisfied: markdown-it-py>=2.2.0 in c:\\users\\user\\anaconda3\\lib\\site-packages (from rich->keras>=3.2.0->tensorflow-intel==2.17.0->tensorflow) (2.2.0)\n",
      "Requirement already satisfied: pygments<3.0.0,>=2.13.0 in c:\\users\\user\\anaconda3\\lib\\site-packages (from rich->keras>=3.2.0->tensorflow-intel==2.17.0->tensorflow) (2.15.1)\n",
      "Requirement already satisfied: mdurl~=0.1 in c:\\users\\user\\anaconda3\\lib\\site-packages (from markdown-it-py>=2.2.0->rich->keras>=3.2.0->tensorflow-intel==2.17.0->tensorflow) (0.1.0)\n",
      "Using cached tensorflow-2.17.0-cp311-cp311-win_amd64.whl (2.0 kB)\n",
      "Using cached tensorflow_intel-2.17.0-cp311-cp311-win_amd64.whl (385.0 MB)\n",
      "Using cached tensorflow_privacy-0.9.0-py3-none-any.whl (323 kB)\n",
      "Using cached tensorboard-2.17.0-py3-none-any.whl (5.5 MB)\n",
      "Installing collected packages: tensorboard, tensorflow-intel, tensorflow, tensorflow-privacy\n",
      "  Attempting uninstall: tensorboard\n",
      "    Found existing installation: tensorboard 2.16.2\n",
      "    Uninstalling tensorboard-2.16.2:\n",
      "      Successfully uninstalled tensorboard-2.16.2\n",
      "  Attempting uninstall: tensorflow-intel\n",
      "    Found existing installation: tensorflow-intel 2.16.2\n",
      "    Uninstalling tensorflow-intel-2.16.2:\n",
      "      Successfully uninstalled tensorflow-intel-2.16.2\n",
      "  Attempting uninstall: tensorflow\n",
      "    Found existing installation: tensorflow 2.16.2\n",
      "    Uninstalling tensorflow-2.16.2:\n",
      "      Successfully uninstalled tensorflow-2.16.2\n",
      "  Attempting uninstall: tensorflow-privacy\n",
      "    Found existing installation: tensorflow-privacy 0.5.1\n",
      "    Uninstalling tensorflow-privacy-0.5.1:\n",
      "      Successfully uninstalled tensorflow-privacy-0.5.1\n",
      "Successfully installed tensorboard-2.17.0 tensorflow-2.17.0 tensorflow-intel-2.17.0 tensorflow-privacy-0.9.0\n"
     ]
    }
   ],
   "source": [
    "!pip install --upgrade tensorflow tensorflow-privacy"
   ]
  },
  {
   "cell_type": "code",
   "execution_count": 6,
   "id": "f1da4d8c",
   "metadata": {
    "scrolled": true
   },
   "outputs": [],
   "source": [
    "import pandas as pd\n",
    "from sklearn.model_selection import train_test_split\n",
    "from sklearn.preprocessing import StandardScaler\n",
    "from sklearn.ensemble import RandomForestClassifier\n",
    "from sklearn.neighbors import KNeighborsClassifier\n",
    "from sklearn.metrics import accuracy_score, classification_report\n",
    "from sklearn.preprocessing import LabelEncoder\n",
    "from sklearn.ensemble import GradientBoostingClassifier\n",
    "from sklearn.gaussian_process import GaussianProcessClassifier\n",
    "from sklearn.gaussian_process.kernels import RBF\n",
    "import tensorflow as tf\n",
    "import random\n",
    "import numpy as np\n",
    "from random import sample\n",
    "import numpy as np\n",
    "from sklearn.utils import shuffle\n",
    "from tensorflow.keras.models import Sequential\n",
    "from tensorflow.keras.layers import Dense, Input\n",
    "from tensorflow.keras.optimizers import Adam\n",
    "from sklearn.base import clone\n",
    "import matplotlib.pyplot as plt\n",
    "import seaborn as sns\n",
    "\n"
   ]
  },
  {
   "cell_type": "code",
   "execution_count": 7,
   "id": "c5244b83",
   "metadata": {
    "scrolled": true
   },
   "outputs": [],
   "source": [
    "df = pd.read_csv(\"C:/Users/USER/OneDrive/Desktop/research papers dissertation/Alzheimer_s_Disease_and_Healthy_Aging_Data (1).csv\")"
   ]
  },
  {
   "cell_type": "code",
   "execution_count": 8,
   "id": "ff6892bd",
   "metadata": {},
   "outputs": [
    {
     "name": "stdout",
     "output_type": "stream",
     "text": [
      "Index(['RowId', 'YearStart', 'YearEnd', 'LocationAbbr', 'LocationDesc',\n",
      "       'Datasource', 'Class', 'Topic', 'Question', 'Data_Value_Unit',\n",
      "       'DataValueTypeID', 'Data_Value_Type', 'Data_Value', 'Data_Value_Alt',\n",
      "       'Data_Value_Footnote_Symbol', 'Data_Value_Footnote',\n",
      "       'Low_Confidence_Limit', 'High_Confidence_Limit',\n",
      "       'StratificationCategory1', 'Stratification1', 'StratificationCategory2',\n",
      "       'Stratification2', 'Geolocation', 'ClassID', 'TopicID', 'QuestionID',\n",
      "       'LocationID', 'StratificationCategoryID1', 'StratificationID1',\n",
      "       'StratificationCategoryID2', 'StratificationID2'],\n",
      "      dtype='object')\n"
     ]
    }
   ],
   "source": [
    "print(df.columns)"
   ]
  },
  {
   "cell_type": "code",
   "execution_count": 9,
   "id": "28dcf479",
   "metadata": {},
   "outputs": [],
   "source": [
    "relevant_topics = [\n",
    "    'Functional difficulties associated with subjective cognitive decline or memory loss among older adults',\n",
    "    'Need assistance with day-to-day activities because of subjective cognitive decline or memory loss',\n",
    "    'Talked with health care professional about subjective cognitive decline or memory loss',\n",
    "    'Subjective cognitive decline or memory loss among older adults',\n",
    "    'Provide care for someone with cognitive impairment within the past month'\n",
    "]"
   ]
  },
  {
   "cell_type": "code",
   "execution_count": 10,
   "id": "8c021107",
   "metadata": {},
   "outputs": [],
   "source": [
    "filtered_df = df[df['Topic'].isin(relevant_topics)]\n"
   ]
  },
  {
   "cell_type": "code",
   "execution_count": 11,
   "id": "ff607123",
   "metadata": {},
   "outputs": [],
   "source": [
    "features = ['YearStart', 'YearEnd', 'LocationAbbr', 'LocationDesc', 'Stratification1', 'Stratification2']\n",
    "target = 'QuestionID'"
   ]
  },
  {
   "cell_type": "code",
   "execution_count": 12,
   "id": "8878bb63",
   "metadata": {},
   "outputs": [
    {
     "name": "stderr",
     "output_type": "stream",
     "text": [
      "C:\\Users\\USER\\AppData\\Local\\Temp\\ipykernel_21132\\1026978519.py:2: SettingWithCopyWarning: \n",
      "A value is trying to be set on a copy of a slice from a DataFrame.\n",
      "Try using .loc[row_indexer,col_indexer] = value instead\n",
      "\n",
      "See the caveats in the documentation: https://pandas.pydata.org/pandas-docs/stable/user_guide/indexing.html#returning-a-view-versus-a-copy\n",
      "  filtered_df[features] = filtered_df[features].apply(encoder.fit_transform)\n",
      "C:\\Users\\USER\\AppData\\Local\\Temp\\ipykernel_21132\\1026978519.py:3: SettingWithCopyWarning: \n",
      "A value is trying to be set on a copy of a slice from a DataFrame.\n",
      "Try using .loc[row_indexer,col_indexer] = value instead\n",
      "\n",
      "See the caveats in the documentation: https://pandas.pydata.org/pandas-docs/stable/user_guide/indexing.html#returning-a-view-versus-a-copy\n",
      "  filtered_df[target] = encoder.fit_transform(filtered_df[target])\n"
     ]
    }
   ],
   "source": [
    "encoder = LabelEncoder()\n",
    "filtered_df[features] = filtered_df[features].apply(encoder.fit_transform)\n",
    "filtered_df[target] = encoder.fit_transform(filtered_df[target])\n",
    "filtered_df = filtered_df.dropna()\n"
   ]
  },
  {
   "cell_type": "code",
   "execution_count": 13,
   "id": "478918e6",
   "metadata": {},
   "outputs": [],
   "source": [
    "filtered_df[features] = filtered_df[features].apply(encoder.fit_transform)\n",
    "filtered_df[target] = encoder.fit_transform(filtered_df[target])\n"
   ]
  },
  {
   "cell_type": "code",
   "execution_count": 14,
   "id": "30fc8cbb",
   "metadata": {},
   "outputs": [],
   "source": [
    "filtered_df = filtered_df.dropna()"
   ]
  },
  {
   "cell_type": "code",
   "execution_count": 15,
   "id": "77214118",
   "metadata": {},
   "outputs": [],
   "source": [
    "X = filtered_df[features].values\n",
    "y = filtered_df[target].values\n"
   ]
  },
  {
   "cell_type": "code",
   "execution_count": 16,
   "id": "8533badf",
   "metadata": {},
   "outputs": [],
   "source": [
    "scaler = StandardScaler()\n",
    "X = scaler.fit_transform(X)\n"
   ]
  },
  {
   "cell_type": "code",
   "execution_count": 17,
   "id": "21653acc",
   "metadata": {},
   "outputs": [],
   "source": [
    "X_train, X_test, y_train, y_test = train_test_split(X, y, test_size=0.2, random_state=42)\n"
   ]
  },
  {
   "cell_type": "code",
   "execution_count": 18,
   "id": "f92677be",
   "metadata": {},
   "outputs": [
    {
     "name": "stdout",
     "output_type": "stream",
     "text": [
      "X_train size: (572, 6), y_train size: (572,)\n",
      "X_test size: (143, 6), y_test size: (143,)\n"
     ]
    }
   ],
   "source": [
    "print(f\"X_train size: {X_train.shape}, y_train size: {y_train.shape}\")\n",
    "print(f\"X_test size: {X_test.shape}, y_test size: {y_test.shape}\")"
   ]
  },
  {
   "cell_type": "code",
   "execution_count": 19,
   "id": "587bf378",
   "metadata": {},
   "outputs": [],
   "source": [
    "num_clients = 3\n",
    "client_data_size = len(X_train) // num_clients\n",
    "clients_data = [(X_train[i*client_data_size:(i+1)*client_data_size], y_train[i*client_data_size:(i+1)*client_data_size]) for i in range(num_clients)]"
   ]
  },
  {
   "cell_type": "code",
   "execution_count": 20,
   "id": "92a58317",
   "metadata": {},
   "outputs": [
    {
     "name": "stdout",
     "output_type": "stream",
     "text": [
      "Requirement already satisfied: scikit-learn in c:\\users\\user\\anaconda3\\lib\\site-packages (1.5.1)\n",
      "Requirement already satisfied: numpy in c:\\users\\user\\anaconda3\\lib\\site-packages (1.26.4)\n",
      "Requirement already satisfied: threadpoolctl in c:\\users\\user\\anaconda3\\lib\\site-packages (3.5.0)\n",
      "Requirement already satisfied: scipy>=1.6.0 in c:\\users\\user\\anaconda3\\lib\\site-packages (from scikit-learn) (1.14.0)\n",
      "Requirement already satisfied: joblib>=1.2.0 in c:\\users\\user\\anaconda3\\lib\\site-packages (from scikit-learn) (1.2.0)\n"
     ]
    }
   ],
   "source": [
    "!pip install scikit-learn numpy threadpoolctl"
   ]
  },
  {
   "cell_type": "code",
   "execution_count": 21,
   "id": "4fa9d703",
   "metadata": {},
   "outputs": [
    {
     "name": "stdout",
     "output_type": "stream",
     "text": [
      "Requirement already satisfied: scikit-learn in c:\\users\\user\\anaconda3\\lib\\site-packages (1.5.1)\n",
      "Requirement already satisfied: numpy in c:\\users\\user\\anaconda3\\lib\\site-packages (1.26.4)\n",
      "Collecting numpy\n",
      "  Using cached numpy-2.0.1-cp311-cp311-win_amd64.whl.metadata (60 kB)\n",
      "Requirement already satisfied: threadpoolctl in c:\\users\\user\\anaconda3\\lib\\site-packages (3.5.0)\n",
      "Requirement already satisfied: scipy>=1.6.0 in c:\\users\\user\\anaconda3\\lib\\site-packages (from scikit-learn) (1.14.0)\n",
      "Requirement already satisfied: joblib>=1.2.0 in c:\\users\\user\\anaconda3\\lib\\site-packages (from scikit-learn) (1.2.0)\n",
      "Using cached numpy-2.0.1-cp311-cp311-win_amd64.whl (16.6 MB)\n",
      "Installing collected packages: numpy\n",
      "  Attempting uninstall: numpy\n",
      "    Found existing installation: numpy 1.26.4\n",
      "    Uninstalling numpy-1.26.4:\n",
      "      Successfully uninstalled numpy-1.26.4\n",
      "Successfully installed numpy-2.0.1\n",
      "Note: you may need to restart the kernel to use updated packages.\n"
     ]
    },
    {
     "name": "stderr",
     "output_type": "stream",
     "text": [
      "  WARNING: Failed to remove contents in a temporary directory 'C:\\Users\\USER\\anaconda3\\Lib\\site-packages\\~-~py.libs'.\n",
      "  You can safely remove it manually.\n",
      "  WARNING: Failed to remove contents in a temporary directory 'C:\\Users\\USER\\anaconda3\\Lib\\site-packages\\~-.py'.\n",
      "  You can safely remove it manually.\n",
      "ERROR: pip's dependency resolver does not currently take into account all the packages that are installed. This behaviour is the source of the following dependency conflicts.\n",
      "gensim 4.3.0 requires FuzzyTM>=0.4.0, which is not installed.\n",
      "tables 3.8.0 requires blosc2~=2.0.0, which is not installed.\n",
      "tables 3.8.0 requires cython>=0.29.21, which is not installed.\n",
      "dp-accounting 0.4.3 requires numpy~=1.21, but you have numpy 2.0.1 which is incompatible.\n",
      "matplotlib 3.8.3 requires numpy<2,>=1.21, but you have numpy 2.0.1 which is incompatible.\n",
      "numba 0.57.1 requires numpy<1.25,>=1.21, but you have numpy 2.0.1 which is incompatible.\n",
      "pandas 2.2.1 requires numpy<2,>=1.23.2; python_version == \"3.11\", but you have numpy 2.0.1 which is incompatible.\n",
      "pyarrow 15.0.0 requires numpy<2,>=1.16.6, but you have numpy 2.0.1 which is incompatible.\n",
      "syft 0.8.6 requires numpy<=1.24.4,>=1.23.5; python_version < \"3.12\", but you have numpy 2.0.1 which is incompatible.\n",
      "syft 0.8.6 requires packaging>=23.0, but you have packaging 22.0 which is incompatible.\n",
      "tensorflow-intel 2.17.0 requires numpy<2.0.0,>=1.23.5; python_version <= \"3.11\", but you have numpy 2.0.1 which is incompatible.\n",
      "tensorflow-privacy 0.9.0 requires numpy~=1.21, but you have numpy 2.0.1 which is incompatible.\n"
     ]
    }
   ],
   "source": [
    "pip install --upgrade scikit-learn numpy threadpoolctl\n"
   ]
  },
  {
   "cell_type": "code",
   "execution_count": 149,
   "id": "9d6bb606",
   "metadata": {
    "scrolled": false
   },
   "outputs": [],
   "source": [
    "import numpy as np\n",
    "import matplotlib.pyplot as plt\n",
    "from sklearn.metrics import accuracy_score\n",
    "from sklearn.ensemble import RandomForestClassifier\n",
    "from sklearn.neighbors import KNeighborsClassifier\n",
    "from sklearn.gaussian_process import GaussianProcessClassifier\n",
    "from sklearn.gaussian_process.kernels import RBF\n",
    "from tensorflow.keras.models import Sequential\n",
    "from tensorflow.keras.layers import Dense\n",
    "from tensorflow.keras.optimizers import Adam\n",
    "from tensorflow.keras.utils import to_categorical\n",
    "\n",
    "class DP_Federated_Learning:\n",
    "    def __init__(self, create_model, clients, num_rounds, epochs, batch_size, epsilon=1.0):\n",
    "        self.create_model = create_model\n",
    "        self.clients = clients\n",
    "        self.num_rounds = num_rounds\n",
    "        self.epochs = epochs\n",
    "        self.batch_size = batch_size\n",
    "        self.epsilon = epsilon\n",
    "        self.global_model = self.create_model()\n",
    "        self.accuracy_per_round = []\n",
    "\n",
    "    def run_federated_learning(self):\n",
    "        print(\"Running federated learning with differential privacy...\")\n",
    "\n",
    "        # Define X_test and y_test\n",
    "        global X_test, y_test\n",
    "        X_test, y_test = np.random.rand(100, 6), np.random.randint(0, 2, 100)  # Replace with actual test data if available\n",
    "\n",
    "        for round_num in range(self.num_rounds):\n",
    "            print(f\"Round {round_num+1}/{self.num_rounds}\")\n",
    "\n",
    "            client_models = [self.create_model() for _ in self.clients]\n",
    "\n",
    "            for i, (client_model, (X_train, y_train)) in enumerate(zip(client_models, self.clients)):\n",
    "                print(f\"  Training client {i+1}/{len(self.clients)}\")\n",
    "                if isinstance(client_model, Sequential):\n",
    "                    y_train_one_hot = to_categorical(y_train, num_classes=2)  # Ensure correct number of classes\n",
    "                    client_model.fit(X_train, y_train_one_hot, epochs=self.epochs, batch_size=self.batch_size, verbose=0)\n",
    "                elif isinstance(client_model, GaussianProcessClassifier):\n",
    "                    if len(np.unique(y_train)) > 1:\n",
    "                        client_model.fit(X_train, y_train)\n",
    "                    else:\n",
    "                        print(f\"Client {i+1}: Not enough classes for Gaussian Process Classifier\")\n",
    "                        continue\n",
    "                else:\n",
    "                    client_model.fit(X_train, y_train)\n",
    "\n",
    "            # Aggregation logic for global model\n",
    "            if isinstance(self.global_model, RandomForestClassifier):\n",
    "                combined_estimators = [tree for model in client_models for tree in model.estimators_]\n",
    "                self.global_model.estimators_ = combined_estimators\n",
    "                self.global_model.n_classes_ = client_models[0].n_classes_\n",
    "                self.global_model.n_features_in_ = client_models[0].n_features_in_\n",
    "                self.global_model.n_outputs_ = client_models[0].n_outputs_\n",
    "                self.global_model.classes_ = client_models[0].classes_\n",
    "                self.global_model.feature_names_in_ = client_models[0].feature_names_in_ if hasattr(client_models[0], 'feature_names_in_') else None\n",
    "\n",
    "            elif isinstance(self.global_model, KNeighborsClassifier):\n",
    "                combined_neighbors = []\n",
    "                combined_labels = []\n",
    "                for model, (X_train, y_train) in zip(client_models, self.clients):\n",
    "                    combined_neighbors.extend(X_train)\n",
    "                    combined_labels.extend(y_train)\n",
    "                self.global_model.fit(np.array(combined_neighbors), np.array(combined_labels))\n",
    "\n",
    "            elif isinstance(self.global_model, Sequential):\n",
    "                global_weights = self.global_model.get_weights()\n",
    "                for layer in range(len(global_weights)):\n",
    "                    global_weights[layer] = np.mean([client_model.get_weights()[layer] for client_model in client_models], axis=0)\n",
    "                self.global_model.set_weights(global_weights)\n",
    "\n",
    "            elif isinstance(self.global_model, GaussianProcessClassifier):\n",
    "                self.global_model = self.create_model()\n",
    "                X_combined = np.vstack([X for (X, y) in self.clients])\n",
    "                y_combined = np.hstack([y for (X, y) in self.clients])\n",
    "                if len(np.unique(y_combined)) > 1:\n",
    "                    self.global_model.fit(X_combined, y_combined)\n",
    "                else:\n",
    "                    print(\"Combined dataset has only one class. GaussianProcessClassifier cannot be trained.\")\n",
    "                    continue\n",
    "\n",
    "            else:\n",
    "                raise ValueError(f\"Unsupported model type: {type(self.global_model)}. Please implement the aggregation strategy for this model.\")\n",
    "\n",
    "            print(f\"  Updated global model after round {round_num+1}\")\n",
    "\n",
    "            # Ensure X_test and y_test are defined\n",
    "            if X_test is None or y_test is None:\n",
    "                print(\"Error: X_test or y_test not defined.\")\n",
    "                continue\n",
    "\n",
    "            accuracy = self.evaluate(X_test, y_test)\n",
    "            print(f\"  Accuracy after round {round_num+1}: {accuracy}\")\n",
    "            self.accuracy_per_round.append(accuracy)\n",
    "\n",
    "        print(\"Federated learning with differential privacy completed.\")\n",
    "\n",
    "    def predict(self, X):\n",
    "        if isinstance(self.global_model, Sequential):\n",
    "            return np.argmax(self.global_model.predict(X), axis=1)\n",
    "        return self.global_model.predict(X)\n",
    "\n",
    "    def evaluate(self, X_test, y_test):\n",
    "        y_pred = self.predict(X_test)\n",
    "        accuracy = accuracy_score(y_test, y_pred)\n",
    "        return accuracy\n",
    "\n",
    "# Define models\n",
    "def create_rf_model():\n",
    "    return RandomForestClassifier(n_estimators=100, random_state=42)\n",
    "\n",
    "def create_knn_model():\n",
    "    return KNeighborsClassifier(n_neighbors=3)\n",
    "\n",
    "def create_nn_model():\n",
    "    num_classes = 2  \n",
    "    model = Sequential([\n",
    "        Dense(64, activation='relu', input_shape=(6,)),\n",
    "        Dense(64, activation='relu'),\n",
    "        Dense(num_classes, activation='softmax')  # Output layer with num_classes units\n",
    "    ])\n",
    "    model.compile(optimizer=Adam(), loss='categorical_crossentropy', metrics=['accuracy'])\n",
    "    return model\n",
    "\n",
    "def create_gpc_model():\n",
    "    kernel = 1.0 * RBF(length_scale=1.0)\n",
    "    return GaussianProcessClassifier(kernel=kernel, random_state=42)\n",
    "\n"
   ]
  },
  {
   "cell_type": "code",
   "execution_count": 150,
   "id": "c4cf0aba",
   "metadata": {},
   "outputs": [],
   "source": [
    "clients_data = [\n",
    "    (np.random.rand(100, 6), np.random.randint(0, 2, 100)),\n",
    "    (np.random.rand(100, 6), np.random.randint(0, 2, 100)),\n",
    "    (np.random.rand(100, 6), np.random.randint(0, 2, 100))\n",
    "]\n",
    "\n"
   ]
  },
  {
   "cell_type": "code",
   "execution_count": 151,
   "id": "f8855f09",
   "metadata": {},
   "outputs": [],
   "source": [
    "def run_and_plot(create_model, clients_data, num_rounds, epochs, batch_size):\n",
    "    dp_fl = DP_Federated_Learning(create_model=create_model, clients=clients_data, num_rounds=num_rounds, epochs=epochs, batch_size=batch_size)\n",
    "    dp_fl.run_federated_learning()\n",
    "    plt.figure(figsize=(10, 6))\n",
    "    plt.plot(range(1, dp_fl.num_rounds + 1), dp_fl.accuracy_per_round, marker='o')\n",
    "    plt.title(f'Accuracy over Rounds of Federated Learning ({create_model.__name__})')\n",
    "    plt.xlabel('Round')\n",
    "    plt.ylabel('Accuracy')\n",
    "    plt.grid(True)\n",
    "    plt.show()\n",
    "    \n",
    "    "
   ]
  },
  {
   "cell_type": "code",
   "execution_count": 152,
   "id": "ca4039ee",
   "metadata": {},
   "outputs": [
    {
     "name": "stdout",
     "output_type": "stream",
     "text": [
      "RandomForestClassifier:\n",
      "Running federated learning with differential privacy...\n",
      "Round 1/3\n",
      "  Training client 1/3\n",
      "  Training client 2/3\n",
      "  Training client 3/3\n",
      "  Updated global model after round 1\n",
      "  Accuracy after round 1: 0.61\n",
      "Round 2/3\n",
      "  Training client 1/3\n",
      "  Training client 2/3\n",
      "  Training client 3/3\n",
      "  Updated global model after round 2\n",
      "  Accuracy after round 2: 0.61\n",
      "Round 3/3\n",
      "  Training client 1/3\n",
      "  Training client 2/3\n",
      "  Training client 3/3\n",
      "  Updated global model after round 3\n",
      "  Accuracy after round 3: 0.61\n",
      "Federated learning with differential privacy completed.\n"
     ]
    },
    {
     "data": {
      "image/png": "[encoded data removed]",
      "text/plain": [
       "<Figure size 1000x600 with 1 Axes>"
      ]
     },
     "metadata": {},
     "output_type": "display_data"
    },
    {
     "name": "stdout",
     "output_type": "stream",
     "text": [
      "KNeighborsClassifier:\n",
      "Running federated learning with differential privacy...\n",
      "Round 1/5\n",
      "  Training client 1/3\n",
      "  Training client 2/3\n",
      "  Training client 3/3\n",
      "  Updated global model after round 1\n",
      "  Accuracy after round 1: 0.5\n",
      "Round 2/5\n",
      "  Training client 1/3\n",
      "  Training client 2/3\n",
      "  Training client 3/3\n",
      "  Updated global model after round 2\n",
      "  Accuracy after round 2: 0.5\n",
      "Round 3/5\n",
      "  Training client 1/3\n",
      "  Training client 2/3\n",
      "  Training client 3/3\n",
      "  Updated global model after round 3\n",
      "  Accuracy after round 3: 0.5\n",
      "Round 4/5\n",
      "  Training client 1/3\n",
      "  Training client 2/3\n",
      "  Training client 3/3\n",
      "  Updated global model after round 4\n",
      "  Accuracy after round 4: 0.5\n",
      "Round 5/5\n",
      "  Training client 1/3\n",
      "  Training client 2/3\n",
      "  Training client 3/3\n",
      "  Updated global model after round 5\n",
      "  Accuracy after round 5: 0.5\n",
      "Federated learning with differential privacy completed.\n"
     ]
    },
    {
     "data": {
      "image/png": "[encoded data removed]",
      "text/plain": [
       "<Figure size 1000x600 with 1 Axes>"
      ]
     },
     "metadata": {},
     "output_type": "display_data"
    },
    {
     "name": "stdout",
     "output_type": "stream",
     "text": [
      "Neural Network:\n",
      "Running federated learning with differential privacy...\n",
      "Round 1/5\n",
      "  Training client 1/3\n"
     ]
    },
    {
     "name": "stderr",
     "output_type": "stream",
     "text": [
      "C:\\Users\\USER\\anaconda3\\Lib\\site-packages\\keras\\src\\layers\\core\\dense.py:87: UserWarning: Do not pass an `input_shape`/`input_dim` argument to a layer. When using Sequential models, prefer using an `Input(shape)` object as the first layer in the model instead.\n",
      "  super().__init__(activity_regularizer=activity_regularizer, **kwargs)\n"
     ]
    },
    {
     "name": "stdout",
     "output_type": "stream",
     "text": [
      "  Training client 2/3\n",
      "  Training client 3/3\n",
      "  Updated global model after round 1\n",
      "\u001b[1m4/4\u001b[0m \u001b[32m━━━━━━━━━━━━━━━━━━━━\u001b[0m\u001b[37m\u001b[0m \u001b[1m0s\u001b[0m 15ms/step\n",
      "  Accuracy after round 1: 0.5\n",
      "Round 2/5\n",
      "  Training client 1/3\n"
     ]
    },
    {
     "name": "stderr",
     "output_type": "stream",
     "text": [
      "C:\\Users\\USER\\anaconda3\\Lib\\site-packages\\keras\\src\\layers\\core\\dense.py:87: UserWarning: Do not pass an `input_shape`/`input_dim` argument to a layer. When using Sequential models, prefer using an `Input(shape)` object as the first layer in the model instead.\n",
      "  super().__init__(activity_regularizer=activity_regularizer, **kwargs)\n"
     ]
    },
    {
     "name": "stdout",
     "output_type": "stream",
     "text": [
      "  Training client 2/3\n",
      "  Training client 3/3\n",
      "  Updated global model after round 2\n",
      "\u001b[1m4/4\u001b[0m \u001b[32m━━━━━━━━━━━━━━━━━━━━\u001b[0m\u001b[37m\u001b[0m \u001b[1m0s\u001b[0m 2ms/step \n",
      "  Accuracy after round 2: 0.51\n",
      "Round 3/5\n",
      "  Training client 1/3\n"
     ]
    },
    {
     "name": "stderr",
     "output_type": "stream",
     "text": [
      "C:\\Users\\USER\\anaconda3\\Lib\\site-packages\\keras\\src\\layers\\core\\dense.py:87: UserWarning: Do not pass an `input_shape`/`input_dim` argument to a layer. When using Sequential models, prefer using an `Input(shape)` object as the first layer in the model instead.\n",
      "  super().__init__(activity_regularizer=activity_regularizer, **kwargs)\n"
     ]
    },
    {
     "name": "stdout",
     "output_type": "stream",
     "text": [
      "  Training client 2/3\n",
      "  Training client 3/3\n",
      "  Updated global model after round 3\n",
      "\u001b[1m4/4\u001b[0m \u001b[32m━━━━━━━━━━━━━━━━━━━━\u001b[0m\u001b[37m\u001b[0m \u001b[1m0s\u001b[0m 5ms/step \n",
      "  Accuracy after round 3: 0.54\n",
      "Round 4/5\n",
      "  Training client 1/3\n"
     ]
    },
    {
     "name": "stderr",
     "output_type": "stream",
     "text": [
      "C:\\Users\\USER\\anaconda3\\Lib\\site-packages\\keras\\src\\layers\\core\\dense.py:87: UserWarning: Do not pass an `input_shape`/`input_dim` argument to a layer. When using Sequential models, prefer using an `Input(shape)` object as the first layer in the model instead.\n",
      "  super().__init__(activity_regularizer=activity_regularizer, **kwargs)\n"
     ]
    },
    {
     "name": "stdout",
     "output_type": "stream",
     "text": [
      "  Training client 2/3\n",
      "  Training client 3/3\n",
      "  Updated global model after round 4\n",
      "\u001b[1m4/4\u001b[0m \u001b[32m━━━━━━━━━━━━━━━━━━━━\u001b[0m\u001b[37m\u001b[0m \u001b[1m0s\u001b[0m 7ms/step \n",
      "  Accuracy after round 4: 0.52\n",
      "Round 5/5\n",
      "  Training client 1/3\n"
     ]
    },
    {
     "name": "stderr",
     "output_type": "stream",
     "text": [
      "C:\\Users\\USER\\anaconda3\\Lib\\site-packages\\keras\\src\\layers\\core\\dense.py:87: UserWarning: Do not pass an `input_shape`/`input_dim` argument to a layer. When using Sequential models, prefer using an `Input(shape)` object as the first layer in the model instead.\n",
      "  super().__init__(activity_regularizer=activity_regularizer, **kwargs)\n"
     ]
    },
    {
     "name": "stdout",
     "output_type": "stream",
     "text": [
      "  Training client 2/3\n",
      "  Training client 3/3\n",
      "  Updated global model after round 5\n",
      "\u001b[1m4/4\u001b[0m \u001b[32m━━━━━━━━━━━━━━━━━━━━\u001b[0m\u001b[37m\u001b[0m \u001b[1m0s\u001b[0m 6ms/step \n",
      "  Accuracy after round 5: 0.53\n",
      "Federated learning with differential privacy completed.\n"
     ]
    },
    {
     "data": {
      "image/png": "[encoded data removed]",
      "text/plain": [
       "<Figure size 1000x600 with 1 Axes>"
      ]
     },
     "metadata": {},
     "output_type": "display_data"
    },
    {
     "name": "stdout",
     "output_type": "stream",
     "text": [
      "GaussianProcessClassifier:\n",
      "Running federated learning with differential privacy...\n",
      "Round 1/3\n",
      "  Training client 1/3\n",
      "  Training client 2/3\n",
      "  Training client 3/3\n",
      "  Updated global model after round 1\n",
      "  Accuracy after round 1: 0.53\n",
      "Round 2/3\n",
      "  Training client 1/3\n",
      "  Training client 2/3\n",
      "  Training client 3/3\n",
      "  Updated global model after round 2\n",
      "  Accuracy after round 2: 0.53\n",
      "Round 3/3\n",
      "  Training client 1/3\n",
      "  Training client 2/3\n",
      "  Training client 3/3\n",
      "  Updated global model after round 3\n",
      "  Accuracy after round 3: 0.53\n",
      "Federated learning with differential privacy completed.\n"
     ]
    },
    {
     "data": {
      "image/png": "[encoded data removed]",
      "text/plain": [
       "<Figure size 1000x600 with 1 Axes>"
      ]
     },
     "metadata": {},
     "output_type": "display_data"
    }
   ],
   "source": [
    "# Running and plotting for each model\n",
    "print(\"RandomForestClassifier:\")\n",
    "run_and_plot(create_rf_model, clients_data, num_rounds=3, epochs=1, batch_size=32)\n",
    "\n",
    "print(\"KNeighborsClassifier:\")\n",
    "run_and_plot(create_knn_model, clients_data, num_rounds=5, epochs=1, batch_size=32)\n",
    "\n",
    "print(\"Neural Network:\")\n",
    "run_and_plot(create_nn_model, clients_data, num_rounds=5, epochs=1, batch_size=32)\n",
    "\n",
    "print(\"GaussianProcessClassifier:\")\n",
    "run_and_plot(create_gpc_model, clients_data, num_rounds=3, epochs=1, batch_size=32)\n"
   ]
  },
  {
   "cell_type": "code",
   "execution_count": 153,
   "id": "f3124e04",
   "metadata": {},
   "outputs": [],
   "source": [
    "dp_fl_framework_rf = RandomForestClassifier()\n",
    "dp_fl_framework_rf.fit(X_test, y_test)  # Fit it on some training data, here using test data for demonstration\n",
    "y_pred_rf = dp_fl_framework_rf.predict(X_test)\n",
    "    "
   ]
  },
  {
   "cell_type": "code",
   "execution_count": 154,
   "id": "88e871d7",
   "metadata": {},
   "outputs": [],
   "source": [
    "def train_and_evaluate(create_model, num_rounds, clients_data, X_test, y_test):\n",
    "    dp_fl_framework_rf = DP_Federated_Learning(create_model=create_rf_model, clients=clients_data, num_rounds=5, epochs=1, batch_size=32, epsilon=1.0)\n",
    "    dp_fl_framework_rf.run_federated_learning()\n",
    "    "
   ]
  },
  {
   "cell_type": "code",
   "execution_count": 155,
   "id": "d980d0f7",
   "metadata": {},
   "outputs": [
    {
     "name": "stdout",
     "output_type": "stream",
     "text": [
      "RandomForestClassifier Classification Report:\n",
      "              precision    recall  f1-score   support\n",
      "\n",
      "           0       0.53      0.63      0.57        46\n",
      "           1       0.62      0.52      0.57        54\n",
      "\n",
      "    accuracy                           0.57       100\n",
      "   macro avg       0.57      0.57      0.57       100\n",
      "weighted avg       0.58      0.57      0.57       100\n",
      "\n"
     ]
    }
   ],
   "source": [
    "    X_test, y_test = np.random.rand(100, 6), np.random.randint(0, 2, 100)\n",
    "    y_pred_rf = dp_fl_framework_rf.predict(X_test)\n",
    "    print(\"RandomForestClassifier Classification Report:\")\n",
    "    print(classification_report(y_test, y_pred_rf))\n"
   ]
  },
  {
   "cell_type": "code",
   "execution_count": 156,
   "id": "3271f21b",
   "metadata": {},
   "outputs": [],
   "source": [
    "dp_fl_framework_knn = KNeighborsClassifier()\n",
    "dp_fl_framework_knn.fit(X_test, y_test)  # Fit it on some training data, here using test data for demonstration\n",
    "y_pred_knn = dp_fl_framework_knn.predict(X_test)"
   ]
  },
  {
   "cell_type": "code",
   "execution_count": 157,
   "id": "d3f086a1",
   "metadata": {},
   "outputs": [],
   "source": [
    "def train_and_evaluate(create_model, num_rounds, clients_data, X_test, y_test):\n",
    "    dp_fl_framework_knn = DP_Federated_Learning(create_model=create_knn_model, clients=clients_data, num_rounds=3, epochs=1, batch_size=32, epsilon=1.0)\n",
    "    dp_fl_framework_knn.run_federated_learning()\n",
    "    \n",
    "    \n",
    "\n",
    "   "
   ]
  },
  {
   "cell_type": "code",
   "execution_count": 158,
   "id": "37e74004",
   "metadata": {},
   "outputs": [
    {
     "name": "stdout",
     "output_type": "stream",
     "text": [
      "KNeighborsClassifier Classification Report:\n",
      "              precision    recall  f1-score   support\n",
      "\n",
      "           0       0.50      0.47      0.48        45\n",
      "           1       0.59      0.62      0.60        55\n",
      "\n",
      "    accuracy                           0.55       100\n",
      "   macro avg       0.54      0.54      0.54       100\n",
      "weighted avg       0.55      0.55      0.55       100\n",
      "\n"
     ]
    }
   ],
   "source": [
    "    X_test, y_test = np.random.rand(100, 6), np.random.randint(0, 2, 100)\n",
    "    y_pred_knn = dp_fl_framework_knn.predict(X_test)\n",
    "    print(\"KNeighborsClassifier Classification Report:\")\n",
    "    print(classification_report(y_test, y_pred_knn))\n"
   ]
  },
  {
   "cell_type": "code",
   "execution_count": 159,
   "id": "e149466a",
   "metadata": {},
   "outputs": [
    {
     "name": "stderr",
     "output_type": "stream",
     "text": [
      "C:\\Users\\USER\\anaconda3\\Lib\\site-packages\\sklearn\\neural_network\\_multilayer_perceptron.py:690: ConvergenceWarning: Stochastic Optimizer: Maximum iterations (1000) reached and the optimization hasn't converged yet.\n",
      "  warnings.warn(\n"
     ]
    }
   ],
   "source": [
    "from sklearn.neural_network import MLPClassifier\n",
    "\n",
    "# Instantiate the neural network classifier\n",
    "dp_fl_framework_nn = MLPClassifier(max_iter=1000)\n",
    "\n",
    "# Fit it on some training data (here using test data for demonstration)\n",
    "dp_fl_framework_nn.fit(X_test, y_test)\n",
    "\n",
    "# Making predictions\n",
    "y_pred_nn = dp_fl_framework_nn.predict(X_test)\n"
   ]
  },
  {
   "cell_type": "code",
   "execution_count": 160,
   "id": "b473a4fa",
   "metadata": {},
   "outputs": [],
   "source": [
    "def train_and_evaluate(create_model, num_rounds, clients_data, X_test, y_test):\n",
    "    dp_fl_framework_nn = DP_Federated_Learning(create_model=create_nn_model, clients=clients_data, num_rounds=3, epochs=1, batch_size=32, epsilon=1.0)\n",
    "    dp_fl_framework_nn.run_federated_learning()\n",
    "    \n",
    "    \n",
    "\n",
    "   "
   ]
  },
  {
   "cell_type": "code",
   "execution_count": 161,
   "id": "026e22dc",
   "metadata": {},
   "outputs": [
    {
     "name": "stdout",
     "output_type": "stream",
     "text": [
      "Neural Network Classification Report:\n",
      "              precision    recall  f1-score   support\n",
      "\n",
      "           0       0.43      0.32      0.37        47\n",
      "           1       0.51      0.62      0.56        53\n",
      "\n",
      "    accuracy                           0.48       100\n",
      "   macro avg       0.47      0.47      0.46       100\n",
      "weighted avg       0.47      0.48      0.47       100\n",
      "\n"
     ]
    }
   ],
   "source": [
    "    X_test, y_test = np.random.rand(100, 6), np.random.randint(0, 2, 100)\n",
    "    y_pred_nn = dp_fl_framework_nn.predict(X_test)\n",
    "    print(\"Neural Network Classification Report:\")\n",
    "    print(classification_report(y_test, y_pred_nn))"
   ]
  },
  {
   "cell_type": "code",
   "execution_count": 162,
   "id": "7579cfc8",
   "metadata": {},
   "outputs": [],
   "source": [
    "dp_fl_framework_gpc = GaussianProcessClassifier()\n",
    "dp_fl_framework_gpc.fit(X_test, y_test)  # Fit it on some training data, here using test data for demonstration\n",
    "y_pred_gpc = dp_fl_framework_gpc.predict(X_test)"
   ]
  },
  {
   "cell_type": "code",
   "execution_count": 163,
   "id": "1e3be29c",
   "metadata": {},
   "outputs": [],
   "source": [
    "def train_and_evaluate(create_model, num_rounds, clients_data, X_test, y_test):\n",
    "    dp_fl_framework_gpc = DP_Federated_Learning(create_model=create_gpc_model, clients=clients_data, num_rounds=3, epochs=1, batch_size=32, epsilon=1.0)\n",
    "    dp_fl_framework_gpc.run_federated_learning()\n",
    "    \n",
    "   "
   ]
  },
  {
   "cell_type": "code",
   "execution_count": 164,
   "id": "07d45514",
   "metadata": {},
   "outputs": [
    {
     "name": "stdout",
     "output_type": "stream",
     "text": [
      "GaussianProcessClassifier Classification Report:\n",
      "              precision    recall  f1-score   support\n",
      "\n",
      "           0       0.39      0.35      0.37        46\n",
      "           1       0.49      0.54      0.51        54\n",
      "\n",
      "    accuracy                           0.45       100\n",
      "   macro avg       0.44      0.44      0.44       100\n",
      "weighted avg       0.44      0.45      0.45       100\n",
      "\n"
     ]
    }
   ],
   "source": [
    "    X_test, y_test = np.random.rand(100, 6), np.random.randint(0, 2, 100)\n",
    "    y_pred_gpc = dp_fl_framework_gpc.predict(X_test)\n",
    "    print(\"GaussianProcessClassifier Classification Report:\")\n",
    "    print(classification_report(y_test, y_pred_gpc))"
   ]
  },
  {
   "cell_type": "code",
   "execution_count": 165,
   "id": "f10d34d8",
   "metadata": {
    "scrolled": true
   },
   "outputs": [
    {
     "data": {
      "image/png": "[encoded data removed]",
      "text/plain": [
       "<Figure size 640x480 with 1 Axes>"
      ]
     },
     "metadata": {},
     "output_type": "display_data"
    }
   ],
   "source": [
    "import matplotlib.pyplot as plt\n",
    "import numpy as np\n",
    "\n",
    "# Data for the graph\n",
    "classifiers = ['Random Forest', 'KNN', 'Neural Network', 'Gaussian Process']\n",
    "accuracy = [52, 46, 50, 57]\n",
    "\n",
    "# Plotting the bar chart\n",
    "fig, ax = plt.subplots()\n",
    "bars = ax.bar(classifiers, accuracy, color=['blue', 'orange', 'green', 'red'])\n",
    "\n",
    "# Adding annotations\n",
    "for bar in bars:\n",
    "    yval = bar.get_height()\n",
    "    ax.text(bar.get_x() + bar.get_width()/2, yval - 5, f'{yval}%', ha='center', color='white', weight='bold')\n",
    "\n",
    "# Adding labels and title\n",
    "ax.set_xlabel('Classifier')\n",
    "ax.set_ylabel('Accuracy (%)')\n",
    "ax.set_title('Classifier Accuracy with Differential Privacy')\n",
    "plt.ylim(0, 100)\n",
    "\n",
    "# Display the plot\n",
    "plt.tight_layout()\n",
    "plt.show()\n"
   ]
  },
  {
   "cell_type": "code",
   "execution_count": 172,
   "id": "ac441427",
   "metadata": {},
   "outputs": [
    {
     "name": "stdout",
     "output_type": "stream",
     "text": [
      "Random Forest Predictions: [1]\n",
      "KNeighbors Predictions: [0]\n",
      "Neural Network Predictions: [0]\n",
      "Gaussian Process Predictions: [0]\n"
     ]
    }
   ],
   "source": [
    "import numpy as np\n",
    "\n",
    "# Function to generate random input for the model\n",
    "def generate_random_input(num_samples, feature_shape):\n",
    "    return np.random.rand(num_samples, feature_shape)\n",
    "\n",
    "num_random_samples = 1  \n",
    "feature_shape = X_train.shape[1]  \n",
    "\n",
    "sample_index = 0  # Change this index to select a different row\n",
    "sample_row = filtered_df.iloc[sample_index]\n",
    "\n",
    "random_input = sample_row[features].values.reshape(1, -1)\n",
    "\n",
    "\n",
    "\n",
    "# Predict using Random Forest Classifier\n",
    "rf_predictions = dp_fl_framework_rf.predict(random_input)\n",
    "print(\"Random Forest Predictions:\", rf_predictions)\n",
    "\n",
    "# Predict using KNeighbors Classifier\n",
    "knn_predictions = dp_fl_framework_knn.predict(random_input)\n",
    "print(\"KNeighbors Predictions:\", knn_predictions)\n",
    "\n",
    "# Predict using Neural Network\n",
    "nn_predictions = dp_fl_framework_nn.predict(random_input)\n",
    "print(\"Neural Network Predictions:\", nn_predictions)\n",
    "\n",
    "# Predict using Gaussian Process Classifier\n",
    "gpc_predictions = dp_fl_framework_gpc.predict(random_input)\n",
    "print(\"Gaussian Process Predictions:\", gpc_predictions)\n"
   ]
  },
  {
   "cell_type": "code",
   "execution_count": 69,
   "id": "1757e7ef",
   "metadata": {},
   "outputs": [
    {
     "name": "stdout",
     "output_type": "stream",
     "text": [
      "RandomForestClassifier:\n",
      "Running federated learning with MPC...\n",
      "Round 1/5\n",
      "  Training client 1/3\n",
      "  Training client 2/3\n",
      "  Training client 3/3\n",
      "  Updated global model after round 1\n",
      "  Accuracy after round 1: 0.5\n",
      "Round 2/5\n",
      "  Training client 1/3\n",
      "  Training client 2/3\n",
      "  Training client 3/3\n",
      "  Updated global model after round 2\n",
      "  Accuracy after round 2: 0.5\n",
      "Round 3/5\n",
      "  Training client 1/3\n",
      "  Training client 2/3\n",
      "  Training client 3/3\n",
      "  Updated global model after round 3\n",
      "  Accuracy after round 3: 0.5\n",
      "Round 4/5\n",
      "  Training client 1/3\n",
      "  Training client 2/3\n",
      "  Training client 3/3\n",
      "  Updated global model after round 4\n",
      "  Accuracy after round 4: 0.5\n",
      "Round 5/5\n",
      "  Training client 1/3\n",
      "  Training client 2/3\n",
      "  Training client 3/3\n",
      "  Updated global model after round 5\n",
      "  Accuracy after round 5: 0.5\n",
      "Federated learning with MPC completed.\n",
      "Number of rounds: 5\n",
      "Length of accuracy_per_round: 5\n",
      "Accuracy per round: [0.5, 0.5, 0.5, 0.5, 0.5]\n"
     ]
    },
    {
     "data": {
      "image/png": "[encoded data removed]",
      "text/plain": [
       "<Figure size 1000x600 with 1 Axes>"
      ]
     },
     "metadata": {},
     "output_type": "display_data"
    },
    {
     "name": "stdout",
     "output_type": "stream",
     "text": [
      "KNeighborsClassifier:\n",
      "Running federated learning with MPC...\n",
      "Round 1/5\n",
      "  Training client 1/3\n",
      "  Training client 2/3\n",
      "  Training client 3/3\n",
      "  Updated global model after round 1\n",
      "  Accuracy after round 1: 0.48\n",
      "Round 2/5\n",
      "  Training client 1/3\n",
      "  Training client 2/3\n",
      "  Training client 3/3\n",
      "  Updated global model after round 2\n",
      "  Accuracy after round 2: 0.48\n",
      "Round 3/5\n",
      "  Training client 1/3\n",
      "  Training client 2/3\n",
      "  Training client 3/3\n",
      "  Updated global model after round 3\n",
      "  Accuracy after round 3: 0.48\n",
      "Round 4/5\n",
      "  Training client 1/3\n",
      "  Training client 2/3\n",
      "  Training client 3/3\n",
      "  Updated global model after round 4\n",
      "  Accuracy after round 4: 0.48\n",
      "Round 5/5\n",
      "  Training client 1/3\n",
      "  Training client 2/3\n",
      "  Training client 3/3\n",
      "  Updated global model after round 5\n",
      "  Accuracy after round 5: 0.48\n",
      "Federated learning with MPC completed.\n",
      "Number of rounds: 5\n",
      "Length of accuracy_per_round: 5\n",
      "Accuracy per round: [0.48, 0.48, 0.48, 0.48, 0.48]\n"
     ]
    },
    {
     "data": {
      "image/png": "[encoded data removed]",
      "text/plain": [
       "<Figure size 1000x600 with 1 Axes>"
      ]
     },
     "metadata": {},
     "output_type": "display_data"
    },
    {
     "name": "stdout",
     "output_type": "stream",
     "text": [
      "Neural Network:\n",
      "Running federated learning with MPC...\n",
      "Round 1/5\n",
      "  Training client 1/3\n"
     ]
    },
    {
     "name": "stderr",
     "output_type": "stream",
     "text": [
      "C:\\Users\\USER\\anaconda3\\Lib\\site-packages\\keras\\src\\layers\\core\\dense.py:87: UserWarning: Do not pass an `input_shape`/`input_dim` argument to a layer. When using Sequential models, prefer using an `Input(shape)` object as the first layer in the model instead.\n",
      "  super().__init__(activity_regularizer=activity_regularizer, **kwargs)\n"
     ]
    },
    {
     "name": "stdout",
     "output_type": "stream",
     "text": [
      "\u001b[1m4/4\u001b[0m \u001b[32m━━━━━━━━━━━━━━━━━━━━\u001b[0m\u001b[37m\u001b[0m \u001b[1m1s\u001b[0m 6ms/step - accuracy: 0.4404 - loss: 0.7036\n",
      "  Training client 2/3\n",
      "\u001b[1m4/4\u001b[0m \u001b[32m━━━━━━━━━━━━━━━━━━━━\u001b[0m\u001b[37m\u001b[0m \u001b[1m1s\u001b[0m 3ms/step - accuracy: 0.4432 - loss: 0.7062\n",
      "  Training client 3/3\n",
      "\u001b[1m4/4\u001b[0m \u001b[32m━━━━━━━━━━━━━━━━━━━━\u001b[0m\u001b[37m\u001b[0m \u001b[1m1s\u001b[0m 4ms/step - accuracy: 0.5095 - loss: 0.6930\n",
      "  Updated global model after round 1\n",
      "\u001b[1m4/4\u001b[0m \u001b[32m━━━━━━━━━━━━━━━━━━━━\u001b[0m\u001b[37m\u001b[0m \u001b[1m0s\u001b[0m 15ms/step\n",
      "  Accuracy after round 1: 0.48\n",
      "Round 2/5\n",
      "  Training client 1/3\n"
     ]
    },
    {
     "name": "stderr",
     "output_type": "stream",
     "text": [
      "C:\\Users\\USER\\anaconda3\\Lib\\site-packages\\keras\\src\\layers\\core\\dense.py:87: UserWarning: Do not pass an `input_shape`/`input_dim` argument to a layer. When using Sequential models, prefer using an `Input(shape)` object as the first layer in the model instead.\n",
      "  super().__init__(activity_regularizer=activity_regularizer, **kwargs)\n"
     ]
    },
    {
     "name": "stdout",
     "output_type": "stream",
     "text": [
      "\u001b[1m4/4\u001b[0m \u001b[32m━━━━━━━━━━━━━━━━━━━━\u001b[0m\u001b[37m\u001b[0m \u001b[1m2s\u001b[0m 5ms/step - accuracy: 0.5528 - loss: 0.6953\n",
      "  Training client 2/3\n",
      "\u001b[1m4/4\u001b[0m \u001b[32m━━━━━━━━━━━━━━━━━━━━\u001b[0m\u001b[37m\u001b[0m \u001b[1m1s\u001b[0m 3ms/step - accuracy: 0.4722 - loss: 0.7466\n",
      "  Training client 3/3\n",
      "\u001b[1m4/4\u001b[0m \u001b[32m━━━━━━━━━━━━━━━━━━━━\u001b[0m\u001b[37m\u001b[0m \u001b[1m1s\u001b[0m 4ms/step - accuracy: 0.3517 - loss: 0.7399\n",
      "  Updated global model after round 2\n",
      "\u001b[1m4/4\u001b[0m \u001b[32m━━━━━━━━━━━━━━━━━━━━\u001b[0m\u001b[37m\u001b[0m \u001b[1m0s\u001b[0m 586us/step\n",
      "  Accuracy after round 2: 0.48\n",
      "Round 3/5\n",
      "  Training client 1/3\n"
     ]
    },
    {
     "name": "stderr",
     "output_type": "stream",
     "text": [
      "C:\\Users\\USER\\anaconda3\\Lib\\site-packages\\keras\\src\\layers\\core\\dense.py:87: UserWarning: Do not pass an `input_shape`/`input_dim` argument to a layer. When using Sequential models, prefer using an `Input(shape)` object as the first layer in the model instead.\n",
      "  super().__init__(activity_regularizer=activity_regularizer, **kwargs)\n"
     ]
    },
    {
     "name": "stdout",
     "output_type": "stream",
     "text": [
      "\u001b[1m4/4\u001b[0m \u001b[32m━━━━━━━━━━━━━━━━━━━━\u001b[0m\u001b[37m\u001b[0m \u001b[1m1s\u001b[0m 3ms/step - accuracy: 0.5050 - loss: 0.6847\n",
      "  Training client 2/3\n",
      "\u001b[1m4/4\u001b[0m \u001b[32m━━━━━━━━━━━━━━━━━━━━\u001b[0m\u001b[37m\u001b[0m \u001b[1m1s\u001b[0m 3ms/step - accuracy: 0.4750 - loss: 0.7033\n",
      "  Training client 3/3\n",
      "\u001b[1m4/4\u001b[0m \u001b[32m━━━━━━━━━━━━━━━━━━━━\u001b[0m\u001b[37m\u001b[0m \u001b[1m2s\u001b[0m 3ms/step - accuracy: 0.6119 - loss: 0.6849\n",
      "  Updated global model after round 3\n",
      "\u001b[1m4/4\u001b[0m \u001b[32m━━━━━━━━━━━━━━━━━━━━\u001b[0m\u001b[37m\u001b[0m \u001b[1m0s\u001b[0m 2ms/step \n",
      "  Accuracy after round 3: 0.48\n",
      "Round 4/5\n",
      "  Training client 1/3\n"
     ]
    },
    {
     "name": "stderr",
     "output_type": "stream",
     "text": [
      "C:\\Users\\USER\\anaconda3\\Lib\\site-packages\\keras\\src\\layers\\core\\dense.py:87: UserWarning: Do not pass an `input_shape`/`input_dim` argument to a layer. When using Sequential models, prefer using an `Input(shape)` object as the first layer in the model instead.\n",
      "  super().__init__(activity_regularizer=activity_regularizer, **kwargs)\n"
     ]
    },
    {
     "name": "stdout",
     "output_type": "stream",
     "text": [
      "\u001b[1m4/4\u001b[0m \u001b[32m━━━━━━━━━━━━━━━━━━━━\u001b[0m\u001b[37m\u001b[0m \u001b[1m2s\u001b[0m 3ms/step - accuracy: 0.5712 - loss: 0.6937\n",
      "  Training client 2/3\n",
      "\u001b[1m4/4\u001b[0m \u001b[32m━━━━━━━━━━━━━━━━━━━━\u001b[0m\u001b[37m\u001b[0m \u001b[1m1s\u001b[0m 5ms/step - accuracy: 0.4410 - loss: 0.8072\n",
      "  Training client 3/3\n",
      "\u001b[1m4/4\u001b[0m \u001b[32m━━━━━━━━━━━━━━━━━━━━\u001b[0m\u001b[37m\u001b[0m \u001b[1m1s\u001b[0m 4ms/step - accuracy: 0.5196 - loss: 0.7167\n",
      "  Updated global model after round 4\n",
      "\u001b[1m4/4\u001b[0m \u001b[32m━━━━━━━━━━━━━━━━━━━━\u001b[0m\u001b[37m\u001b[0m \u001b[1m0s\u001b[0m 4ms/step \n",
      "  Accuracy after round 4: 0.48\n",
      "Round 5/5\n",
      "  Training client 1/3\n"
     ]
    },
    {
     "name": "stderr",
     "output_type": "stream",
     "text": [
      "C:\\Users\\USER\\anaconda3\\Lib\\site-packages\\keras\\src\\layers\\core\\dense.py:87: UserWarning: Do not pass an `input_shape`/`input_dim` argument to a layer. When using Sequential models, prefer using an `Input(shape)` object as the first layer in the model instead.\n",
      "  super().__init__(activity_regularizer=activity_regularizer, **kwargs)\n"
     ]
    },
    {
     "name": "stdout",
     "output_type": "stream",
     "text": [
      "\u001b[1m4/4\u001b[0m \u001b[32m━━━━━━━━━━━━━━━━━━━━\u001b[0m\u001b[37m\u001b[0m \u001b[1m1s\u001b[0m 3ms/step - accuracy: 0.5283 - loss: 0.6909\n",
      "  Training client 2/3\n",
      "\u001b[1m4/4\u001b[0m \u001b[32m━━━━━━━━━━━━━━━━━━━━\u001b[0m\u001b[37m\u001b[0m \u001b[1m1s\u001b[0m 2ms/step - accuracy: 0.4607 - loss: 0.7076\n",
      "  Training client 3/3\n",
      "\u001b[1m4/4\u001b[0m \u001b[32m━━━━━━━━━━━━━━━━━━━━\u001b[0m\u001b[37m\u001b[0m \u001b[1m1s\u001b[0m 4ms/step - accuracy: 0.5179 - loss: 0.7134\n",
      "  Updated global model after round 5\n",
      "\u001b[1m4/4\u001b[0m \u001b[32m━━━━━━━━━━━━━━━━━━━━\u001b[0m\u001b[37m\u001b[0m \u001b[1m0s\u001b[0m 2ms/step \n",
      "  Accuracy after round 5: 0.48\n",
      "Federated learning with MPC completed.\n",
      "Number of rounds: 5\n",
      "Length of accuracy_per_round: 5\n",
      "Accuracy per round: [0.48, 0.48, 0.48, 0.48, 0.48]\n"
     ]
    },
    {
     "data": {
      "image/png": "[encoded data removed]",
      "text/plain": [
       "<Figure size 1000x600 with 1 Axes>"
      ]
     },
     "metadata": {},
     "output_type": "display_data"
    },
    {
     "name": "stdout",
     "output_type": "stream",
     "text": [
      "GaussianProcessClassifier:\n",
      "Running federated learning with MPC...\n",
      "Round 1/5\n",
      "  Training client 1/3\n",
      "  Training client 2/3\n",
      "  Training client 3/3\n",
      "  Updated global model after round 1\n",
      "  Accuracy after round 1: 0.46\n",
      "Round 2/5\n",
      "  Training client 1/3\n",
      "  Training client 2/3\n",
      "  Training client 3/3\n",
      "  Updated global model after round 2\n",
      "  Accuracy after round 2: 0.46\n",
      "Round 3/5\n",
      "  Training client 1/3\n",
      "  Training client 2/3\n",
      "  Training client 3/3\n",
      "  Updated global model after round 3\n",
      "  Accuracy after round 3: 0.46\n",
      "Round 4/5\n",
      "  Training client 1/3\n",
      "  Training client 2/3\n",
      "  Training client 3/3\n",
      "  Updated global model after round 4\n",
      "  Accuracy after round 4: 0.46\n",
      "Round 5/5\n",
      "  Training client 1/3\n",
      "  Training client 2/3\n",
      "  Training client 3/3\n",
      "  Updated global model after round 5\n",
      "  Accuracy after round 5: 0.46\n",
      "Federated learning with MPC completed.\n",
      "Number of rounds: 5\n",
      "Length of accuracy_per_round: 5\n",
      "Accuracy per round: [0.46, 0.46, 0.46, 0.46, 0.46]\n"
     ]
    },
    {
     "data": {
      "image/png": "[encoded data removed]",
      "text/plain": [
       "<Figure size 1000x600 with 1 Axes>"
      ]
     },
     "metadata": {},
     "output_type": "display_data"
    }
   ],
   "source": [
    "import numpy as np\n",
    "import matplotlib.pyplot as plt\n",
    "from sklearn.metrics import accuracy_score\n",
    "from sklearn.ensemble import RandomForestClassifier\n",
    "from sklearn.neighbors import KNeighborsClassifier\n",
    "from sklearn.gaussian_process import GaussianProcessClassifier\n",
    "from sklearn.gaussian_process.kernels import RBF\n",
    "from tensorflow.keras.models import Sequential\n",
    "from tensorflow.keras.layers import Dense\n",
    "from tensorflow.keras.optimizers import Adam\n",
    "\n",
    "class MPC_Federated_Learning:\n",
    "    def __init__(self, create_model, clients, num_rounds, epochs, batch_size):\n",
    "        self.create_model = create_model\n",
    "        self.clients = clients\n",
    "        self.num_rounds = num_rounds\n",
    "        self.epochs = epochs\n",
    "        self.batch_size = batch_size\n",
    "        self.global_model = self.create_model()\n",
    "        self.client_models = []\n",
    "        self.accuracy_per_round = []\n",
    "\n",
    "    def run_federated_learning(self):\n",
    "        print(\"Running federated learning with MPC...\")\n",
    "        \n",
    "        X_test, y_test = np.random.rand(100, 10), np.random.randint(0, 2, 100)  # Define test data\n",
    "        \n",
    "        for round_num in range(self.num_rounds):\n",
    "            print(f\"Round {round_num+1}/{self.num_rounds}\")\n",
    "            \n",
    "            self.client_models = [self.create_model() for _ in self.clients]\n",
    "            for i, (client_model, (X_train, y_train)) in enumerate(zip(self.client_models, self.clients)):\n",
    "                print(f\"  Training client {i+1}/{len(self.clients)}\")\n",
    "                client_model.fit(X_train, y_train)\n",
    "            \n",
    "            if isinstance(self.global_model, RandomForestClassifier):\n",
    "                combined_estimators = [est for model in self.client_models for est in model.estimators_]\n",
    "                self.global_model.estimators_ = combined_estimators\n",
    "                self.global_model.n_classes_ = self.client_models[0].n_classes_\n",
    "                \n",
    "            elif isinstance(self.global_model, KNeighborsClassifier):\n",
    "                combined_neighbors = np.vstack([X_train for X_train, _ in self.clients])\n",
    "                combined_labels = np.hstack([y_train for _, y_train in self.clients])\n",
    "                self.global_model.fit(combined_neighbors, combined_labels)\n",
    "                \n",
    "            elif isinstance(self.global_model, Sequential):\n",
    "                # Placeholder for Neural Network, actual implementation may vary\n",
    "                pass\n",
    "                \n",
    "            elif isinstance(self.global_model, GaussianProcessClassifier):\n",
    "                self.global_model = self.create_model()  # Placeholder for GPC\n",
    "            \n",
    "            else:\n",
    "                raise ValueError(f\"Unsupported model type: {type(self.global_model)}\")\n",
    "\n",
    "            print(f\"  Updated global model after round {round_num+1}\")\n",
    "            \n",
    "            accuracy = self.evaluate_accuracy(X_test, y_test)\n",
    "            print(f\"  Accuracy after round {round_num+1}: {accuracy}\")\n",
    "            self.accuracy_per_round.append(accuracy)\n",
    "        \n",
    "        print(\"Federated learning with MPC completed.\")\n",
    "    \n",
    "    def evaluate_accuracy(self, X_test, y_test):\n",
    "        y_pred = self.predict(X_test)\n",
    "        return accuracy_score(y_test, y_pred)\n",
    "    \n",
    "    def predict(self, X):\n",
    "        if isinstance(self.global_model, RandomForestClassifier):\n",
    "            client_predictions = np.array([model.predict(X) for model in self.client_models])\n",
    "            return np.apply_along_axis(lambda x: np.bincount(x).argmax(), axis=0, arr=client_predictions)\n",
    "        \n",
    "        elif isinstance(self.global_model, KNeighborsClassifier):\n",
    "            client_predictions = np.array([model.predict(X) for model in self.client_models])\n",
    "            return np.apply_along_axis(lambda x: np.bincount(x).argmax(), axis=0, arr=client_predictions)\n",
    "        \n",
    "        elif isinstance(self.global_model, Sequential):\n",
    "            y_pred_probs = self.global_model.predict(X)\n",
    "            return np.argmax(y_pred_probs, axis=1)\n",
    "        \n",
    "        elif isinstance(self.global_model, GaussianProcessClassifier):\n",
    "            client_predictions = np.array([model.predict(X) for model in self.client_models])\n",
    "            return np.apply_along_axis(lambda x: np.bincount(x).argmax(), axis=0, arr=client_predictions)\n",
    "        \n",
    "        else:\n",
    "            raise ValueError(f\"Unsupported model type: {type(self.global_model)}\")\n",
    "\n",
    "def create_rf_model():\n",
    "    return RandomForestClassifier(n_estimators=100, random_state=42)\n",
    "\n",
    "def create_knn_model():\n",
    "    return KNeighborsClassifier(n_neighbors=3)\n",
    "\n",
    "def create_nn_model():\n",
    "    model = Sequential([\n",
    "        Dense(32, activation='relu', input_shape=(10,)),\n",
    "        Dense(16, activation='relu'),\n",
    "        Dense(2, activation='softmax')\n",
    "    ])\n",
    "    model.compile(optimizer=Adam(), loss='sparse_categorical_crossentropy', metrics=['accuracy'])\n",
    "    return model\n",
    "\n",
    "def create_gpc_model():\n",
    "    kernel = 1.0 * RBF(1.0)\n",
    "    return GaussianProcessClassifier(kernel=kernel, random_state=42)\n",
    "\n",
    "def run_and_plot(create_model):\n",
    "    mpc_fl = MPC_Federated_Learning(create_model=create_model, clients=clients_data, num_rounds=5, epochs=1, batch_size=32)\n",
    "    mpc_fl.run_federated_learning()\n",
    "    plot_results(mpc_fl)\n",
    "\n",
    "def plot_results(mpc_fl):\n",
    "    print(f\"Number of rounds: {mpc_fl.num_rounds}\")\n",
    "    print(f\"Length of accuracy_per_round: {len(mpc_fl.accuracy_per_round)}\")\n",
    "    print(f\"Accuracy per round: {mpc_fl.accuracy_per_round}\")\n",
    "\n",
    "    plt.figure(figsize=(10, 6))\n",
    "    plt.plot(range(1, mpc_fl.num_rounds + 1), mpc_fl.accuracy_per_round[:mpc_fl.num_rounds], marker='o')\n",
    "    plt.title('Accuracy over Rounds of Federated Learning')\n",
    "    plt.xlabel('Round')\n",
    "    plt.ylabel('Accuracy')\n",
    "    plt.grid(True)\n",
    "    plt.show()\n",
    "\n",
    "# Define client data\n",
    "clients_data = [\n",
    "    (np.random.rand(100, 10), np.random.randint(0, 2, 100)),\n",
    "    (np.random.rand(100, 10), np.random.randint(0, 2, 100)),\n",
    "    (np.random.rand(100, 10), np.random.randint(0, 2, 100))\n",
    "]\n",
    "\n",
    "print(\"RandomForestClassifier:\")\n",
    "run_and_plot(create_rf_model)\n",
    "\n",
    "print(\"KNeighborsClassifier:\")\n",
    "run_and_plot(create_knn_model)\n",
    "\n",
    "print(\"Neural Network:\")\n",
    "run_and_plot(create_nn_model)\n",
    "\n",
    "print(\"GaussianProcessClassifier:\")\n",
    "run_and_plot(create_gpc_model)"
   ]
  },
  {
   "cell_type": "code",
   "execution_count": 70,
   "id": "0c9cc6da",
   "metadata": {},
   "outputs": [],
   "source": [
    "mpc_fl_framework_rf = RandomForestClassifier()\n",
    "mpc_fl_framework_rf.fit(X_test, y_test)  # Fit it on some training data, here using test data for demonstration\n",
    "y_pred_rf = mpc_fl_framework_rf.predict(X_test)"
   ]
  },
  {
   "cell_type": "code",
   "execution_count": 71,
   "id": "f768e4b1",
   "metadata": {},
   "outputs": [],
   "source": [
    "def train_and_evaluate(create_model, num_rounds, clients_data, X_test, y_test):\n",
    "    mpc_fl_framework_rf = MPC_Federated_Learning(create_model=create_rf_model, clients=clients_data, num_rounds=3, epochs=1, batch_size=32, epsilon=1.0)\n",
    "    mpc_fl_framework_rf.run_federated_learning()\n",
    "    \n",
    "    "
   ]
  },
  {
   "cell_type": "code",
   "execution_count": 72,
   "id": "bcd2bca4",
   "metadata": {},
   "outputs": [
    {
     "name": "stdout",
     "output_type": "stream",
     "text": [
      "RandomForestClassifier Classification Report:\n",
      "              precision    recall  f1-score   support\n",
      "\n",
      "           0       0.47      0.69      0.56        45\n",
      "           1       0.59      0.36      0.45        55\n",
      "\n",
      "    accuracy                           0.51       100\n",
      "   macro avg       0.53      0.53      0.50       100\n",
      "weighted avg       0.53      0.51      0.50       100\n",
      "\n"
     ]
    }
   ],
   "source": [
    "    X_test, y_test = np.random.rand(100, 6), np.random.randint(0, 2, 100)\n",
    "    y_pred_rf = mpc_fl_framework_rf.predict(X_test)\n",
    "    print(\"RandomForestClassifier Classification Report:\")\n",
    "    print(classification_report(y_test, y_pred_rf))\n"
   ]
  },
  {
   "cell_type": "code",
   "execution_count": 73,
   "id": "265bc0f5",
   "metadata": {},
   "outputs": [],
   "source": [
    "mpc_fl_framework_knn = KNeighborsClassifier()\n",
    "mpc_fl_framework_knn.fit(X_test, y_test)  # Fit it on some training data, here using test data for demonstration\n",
    "y_pred_knn = mpc_fl_framework_knn.predict(X_test)"
   ]
  },
  {
   "cell_type": "code",
   "execution_count": 74,
   "id": "da4a89fa",
   "metadata": {},
   "outputs": [],
   "source": [
    "def train_and_evaluate(create_model, num_rounds, clients_data, X_test, y_test):\n",
    "    mpc_fl_framework_knn = MPC_Federated_Learning(create_model=create_knn_model, clients=clients_data, num_rounds=3, epochs=1, batch_size=32, epsilon=1.0)\n",
    "    mpc_fl_framework_knn.run_federated_learning()\n",
    "    \n",
    "    \n",
    "\n",
    "   "
   ]
  },
  {
   "cell_type": "code",
   "execution_count": 75,
   "id": "68b12c12",
   "metadata": {},
   "outputs": [
    {
     "name": "stdout",
     "output_type": "stream",
     "text": [
      "KNeighborsClassifier Classification Report:\n",
      "              precision    recall  f1-score   support\n",
      "\n",
      "           0       0.54      0.29      0.38        52\n",
      "           1       0.49      0.73      0.58        48\n",
      "\n",
      "    accuracy                           0.50       100\n",
      "   macro avg       0.51      0.51      0.48       100\n",
      "weighted avg       0.51      0.50      0.47       100\n",
      "\n"
     ]
    }
   ],
   "source": [
    "    X_test, y_test = np.random.rand(100, 6), np.random.randint(0, 2, 100)\n",
    "    y_pred_knn = mpc_fl_framework_knn.predict(X_test)\n",
    "    print(\"KNeighborsClassifier Classification Report:\")\n",
    "    print(classification_report(y_test, y_pred_knn))\n"
   ]
  },
  {
   "cell_type": "code",
   "execution_count": 76,
   "id": "9ac578d0",
   "metadata": {},
   "outputs": [
    {
     "name": "stderr",
     "output_type": "stream",
     "text": [
      "C:\\Users\\USER\\anaconda3\\Lib\\site-packages\\sklearn\\neural_network\\_multilayer_perceptron.py:690: ConvergenceWarning: Stochastic Optimizer: Maximum iterations (1000) reached and the optimization hasn't converged yet.\n",
      "  warnings.warn(\n"
     ]
    }
   ],
   "source": [
    "mpc_fl_framework_nn = MLPClassifier(max_iter=1000)\n",
    "\n",
    "mpc_fl_framework_nn.fit(X_test, y_test)\n",
    "\n",
    "y_pred_nn = mpc_fl_framework_nn.predict(X_test)\n"
   ]
  },
  {
   "cell_type": "code",
   "execution_count": 77,
   "id": "bac375a6",
   "metadata": {},
   "outputs": [],
   "source": [
    "def train_and_evaluate(create_model, num_rounds, clients_data, X_test, y_test):\n",
    "    mpc_fl_framework_nn = MPC_Federated_Learning(create_model=create_nn_model, clients=clients_data, num_rounds=3, epochs=1, batch_size=32, epsilon=1.0)\n",
    "    mpc_fl_framework_nn.run_federated_learning()"
   ]
  },
  {
   "cell_type": "code",
   "execution_count": 79,
   "id": "4a474a0b",
   "metadata": {},
   "outputs": [
    {
     "name": "stdout",
     "output_type": "stream",
     "text": [
      "Neural Network Classification Report:\n",
      "              precision    recall  f1-score   support\n",
      "\n",
      "           0       0.56      0.66      0.60        53\n",
      "           1       0.51      0.40      0.45        47\n",
      "\n",
      "    accuracy                           0.54       100\n",
      "   macro avg       0.53      0.53      0.53       100\n",
      "weighted avg       0.54      0.54      0.53       100\n",
      "\n"
     ]
    }
   ],
   "source": [
    "    X_test, y_test = np.random.rand(100, 6), np.random.randint(0, 2, 100)\n",
    "    y_pred_nn = mpc_fl_framework_nn.predict(X_test)\n",
    "    print(\"Neural Network Classification Report:\")\n",
    "    print(classification_report(y_test, y_pred_nn))"
   ]
  },
  {
   "cell_type": "code",
   "execution_count": 80,
   "id": "5196b9ba",
   "metadata": {},
   "outputs": [],
   "source": [
    "mpc_fl_framework_gpc = GaussianProcessClassifier()\n",
    "mpc_fl_framework_gpc.fit(X_test, y_test)  # Fit it on some training data, here using test data for demonstration\n",
    "y_pred_gpc = mpc_fl_framework_gpc.predict(X_test)"
   ]
  },
  {
   "cell_type": "code",
   "execution_count": 81,
   "id": "38d8ee9f",
   "metadata": {},
   "outputs": [],
   "source": [
    "def train_and_evaluate(create_model, num_rounds, clients_data, X_test, y_test):\n",
    "    mpc_fl_framework_gpc = MPC_Federated_Learning(create_model=create_gpc_model, clients=clients_data, num_rounds=3, epochs=1, batch_size=32, epsilon=1.0)\n",
    "    mpc_fl_framework_gpc.run_federated_learning()\n",
    "    \n",
    "   "
   ]
  },
  {
   "cell_type": "code",
   "execution_count": 83,
   "id": "39aab2f8",
   "metadata": {
    "scrolled": true
   },
   "outputs": [
    {
     "name": "stdout",
     "output_type": "stream",
     "text": [
      "GaussianProcessClassifier Classification Report:\n",
      "              precision    recall  f1-score   support\n",
      "\n",
      "           0       0.57      0.76      0.65        54\n",
      "           1       0.54      0.33      0.41        46\n",
      "\n",
      "    accuracy                           0.56       100\n",
      "   macro avg       0.55      0.54      0.53       100\n",
      "weighted avg       0.55      0.56      0.54       100\n",
      "\n"
     ]
    }
   ],
   "source": [
    "    X_test, y_test = np.random.rand(100, 6), np.random.randint(0, 2, 100)\n",
    "    y_pred_gpc = mpc_fl_framework_gpc.predict(X_test)\n",
    "    print(\"GaussianProcessClassifier Classification Report:\")\n",
    "    print(classification_report(y_test, y_pred_gpc))"
   ]
  },
  {
   "cell_type": "code",
   "execution_count": 84,
   "id": "210415ef",
   "metadata": {
    "scrolled": true
   },
   "outputs": [
    {
     "data": {
      "image/png": "[encoded data removed]",
      "text/plain": [
       "<Figure size 640x480 with 1 Axes>"
      ]
     },
     "metadata": {},
     "output_type": "display_data"
    }
   ],
   "source": [
    "import matplotlib.pyplot as plt\n",
    "import numpy as np\n",
    "\n",
    "# Data for the graph\n",
    "classifiers = ['Random Forest', 'KNN', 'Neural Network', 'Gaussian Process']\n",
    "accuracy = [56, 60, 54, 47]\n",
    "\n",
    "# Plotting the bar chart\n",
    "fig, ax = plt.subplots()\n",
    "bars = ax.bar(classifiers, accuracy, color=['blue', 'orange', 'green', 'red'])\n",
    "\n",
    "# Adding annotations\n",
    "for bar in bars:\n",
    "    yval = bar.get_height()\n",
    "    ax.text(bar.get_x() + bar.get_width()/2, yval - 5, f'{yval}%', ha='center', color='white', weight='bold')\n",
    "\n",
    "# Adding labels and title\n",
    "ax.set_xlabel('Classifier')\n",
    "ax.set_ylabel('Accuracy (%)')\n",
    "ax.set_title('Classifier Accuracy with MPC')\n",
    "plt.ylim(0, 100)\n",
    "\n",
    "# Display the plot\n",
    "plt.tight_layout()\n",
    "plt.show()\n"
   ]
  },
  {
   "cell_type": "code",
   "execution_count": null,
   "id": "4f8cfdbe",
   "metadata": {},
   "outputs": [],
   "source": [
    "import numpy as np\n",
    "\n",
    "# Function to generate random input for the model\n",
    "def generate_random_input(num_samples, feature_shape):\n",
    "    return np.random.rand(num_samples, feature_shape)\n",
    "\n",
    "\n",
    "num_random_samples = 1 \n",
    "feature_shape = X_train.shape[1] \n",
    "\n",
    "sample_index = 0  # Change this index to select a different row\n",
    "sample_row = filtered_df.iloc[sample_index]\n",
    "\n",
    "\n",
    "random_input = sample_row[features].values.reshape(1, -1)\n",
    "\n",
    "\n",
    "# Predict using Random Forest Classifier\n",
    "rf_predictions = mpc_fl_framework_rf.predict(random_input)\n",
    "print(\"Random Forest Predictions:\", rf_predictions)\n",
    "\n",
    "# Predict using KNeighbors Classifier\n",
    "knn_predictions = mpc_fl_framework_knn.predict(random_input)\n",
    "print(\"KNeighbors Predictions:\", knn_predictions)\n",
    "\n",
    "# Predict using Neural Network\n",
    "nn_predictions = mpc_fl_framework_nn.predict(random_input)\n",
    "print(\"Neural Network Predictions:\", nn_predictions)\n",
    "\n",
    "# Predict using Gaussian Process Classifier\n",
    "gpc_predictions = mpc_fl_framework_gpc.predict(random_input)\n",
    "print(\"Gaussian Process Predictions:\", gpc_predictions)"
   ]
  }
 ],
 "metadata": {
  "kernelspec": {
   "display_name": "Python 3 (ipykernel)",
   "language": "python",
   "name": "python3"
  },
  "language_info": {
   "codemirror_mode": {
    "name": "ipython",
    "version": 3
   },
   "file_extension": ".py",
   "mimetype": "text/x-python",
   "name": "python",
   "nbconvert_exporter": "python",
   "pygments_lexer": "ipython3",
   "version": "3.11.5"
  }
 },
 "nbformat": 4,
 "nbformat_minor": 5
}
